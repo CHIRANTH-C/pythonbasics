{
  "cells": [
    {
      "attachments": {},
      "cell_type": "markdown",
      "metadata": {
        "id": "p_buoKXaAuJj"
      },
      "source": [
        "#Assignment 1\n",
        "1. Submit the .ipynb file from todays class\n",
        "## 8. Lists\n",
        "- ### Copying a list with `copy()`"
      ]
    },
    {
      "cell_type": "code",
      "execution_count": null,
      "metadata": {
        "colab": {
          "base_uri": "https://localhost:8080/"
        },
        "id": "IQskeFq4AuJl",
        "outputId": "58f820d7-01cd-4c5e-d560-0366a42b3902"
      },
      "outputs": [
        {
          "name": "stdout",
          "output_type": "stream",
          "text": [
            "16 17\n"
          ]
        }
      ],
      "source": [
        "num_1 = 15\n",
        "num_2 = num_1\n",
        "num_2 += 2\n",
        "num_1 += 1\n",
        "print(num_1 , num_2)"
      ]
    },
    {
      "cell_type": "code",
      "execution_count": 3,
      "metadata": {
        "colab": {
          "base_uri": "https://localhost:8080/"
        },
        "id": "ehm5gGkFBjbk",
        "outputId": "c9633e33-acf0-4a4a-ded4-028fdc784afa"
      },
      "outputs": [
        {
          "name": "stdout",
          "output_type": "stream",
          "text": [
            "[0, 1, 2, 3, 4] [0, 1, 2, 3, 4]\n",
            "[0, 1, 2, 3, 4, 'python', 'Day 2']\n",
            "[0, 1, 2, 3, 4, 'python', 'Day 2']\n",
            "True\n"
          ]
        }
      ],
      "source": [
        "list_1 = list(range(5))\n",
        "list_2 = list_1\n",
        "print(list_1,list_2)\n",
        "list_1.append(\"python\")\n",
        "list_2.append(\"Day 2\")\n",
        "print(list_1)\n",
        "print(list_2)\n",
        "print(list_1 is list_2)"
      ]
    },
    {
      "cell_type": "code",
      "execution_count": null,
      "metadata": {
        "colab": {
          "base_uri": "https://localhost:8080/"
        },
        "id": "DHIgkz1mCD8p",
        "outputId": "794834a4-b260-4233-d26d-d26c2aa687c1"
      },
      "outputs": [
        {
          "name": "stdout",
          "output_type": "stream",
          "text": [
            "False\n",
            "[0, 1, 2, 3, 4, 'Day 2']\n",
            "[0, 1, 2, 3, 4, 'python', 'Day 2']\n"
          ]
        }
      ],
      "source": [
        "list_3 = list_1.copy()\n",
        "print(list_3 is list_1)\n",
        "list_3.remove(\"python\")\n",
        "print(list_3)\n",
        "print(list_1)"
      ]
    },
    {
      "cell_type": "markdown",
      "metadata": {
        "id": "QY9yY_VMAuJm"
      },
      "source": [
        "## 9. Tuples\n",
        "- ### Assignment and Unpacking"
      ]
    },
    {
      "cell_type": "code",
      "execution_count": null,
      "metadata": {
        "colab": {
          "base_uri": "https://localhost:8080/"
        },
        "id": "LdNd5UxdAuJm",
        "outputId": "f95915bf-f0e6-4ce3-f1ba-afb514859a21"
      },
      "outputs": [
        {
          "name": "stdout",
          "output_type": "stream",
          "text": [
            "<class 'tuple'>\n",
            "(2, False, 'Words', 3.1415)\n",
            "2\n",
            "(0, 1, 2, 3, 4, 'python', 'Day 2')\n"
          ]
        }
      ],
      "source": [
        "# tuple\n",
        "# data structure that we do not want to be changed\n",
        "# data modle in AI which we should not change\n",
        "# compact storage , tuple will use minimum memory\n",
        "# list will have trailing memeory since list is supposed to be changed\n",
        "tuple_1 = (2, False , \"Words\",3.1415)\n",
        "print(type(tuple_1))\n",
        "print(tuple_1)\n",
        "print(tuple_1[0])\n",
        "\n",
        "tuple_2 = tuple(list_1)\n",
        "print(tuple_2)"
      ]
    },
    {
      "cell_type": "code",
      "execution_count": null,
      "metadata": {
        "id": "n19KR-RXDumx"
      },
      "outputs": [],
      "source": [
        "var_1 , var_2 , var_3 , var_4 = tuple_1\n",
        "print(var_1 , var_2 , var_3 , var_4)\n",
        "print(len)"
      ]
    },
    {
      "cell_type": "code",
      "execution_count": null,
      "metadata": {
        "colab": {
          "base_uri": "https://localhost:8080/"
        },
        "id": "Ovo0J91oEh57",
        "outputId": "88d2ac6f-08bc-4b99-f21a-b0f636f8948c"
      },
      "outputs": [
        {
          "name": "stdout",
          "output_type": "stream",
          "text": [
            "[60, 61, 62, 63, 64, 65, 66, 67, 68, 69, 70, 71, 72, 73, 74, 75, 76, 77, 78, 79, 80, 81, 82, 83, 84, 85, 86, 87, 88, 89, 90, 91, 92, 93, 94, 95, 96, 97, 98, 99, 100, 101, 102, 103, 104, 105, 106, 107, 108, 109, 110, 111, 112, 113, 114, 115, 116, 117, 118, 119, 120, 121, 122, 123, 124, 125, 126, 127, 128, 129, 130, 131, 132, 133, 134, 135, 136, 137, 138, 139, 140, 141, 142, 143, 144, 145, 146, 147, 148, 149, 150, 151, 152, 153, 154, 155, 156, 157, 158, 159, 160, 161, 162, 163, 164, 165, 166, 167, 168, 169, 170, 171, 172, 173, 174, 175, 176, 177, 178, 179, 180, 181, 182, 183, 184, 185, 186, 187, 188, 189, 190, 191, 192, 193, 194, 195, 196, 197, 198, 199, 200, 201, 202, 203, 204, 205, 206, 207, 208, 209, 210, 211, 212, 213, 214, 215, 216, 217, 218, 219, 220, 221, 222, 223, 224, 225, 226, 227, 228, 229, 230, 231, 232, 233, 234, 235, 236, 237, 238, 239, 240, 241, 242, 243, 244, 245, 246, 247, 248, 249]\n",
            "(60, 61, 62, 63, 64, 65, 66, 67, 68, 69, 70, 71, 72, 73, 74, 75, 76, 77, 78, 79, 80, 81, 82, 83, 84, 85, 86, 87, 88, 89, 90, 91, 92, 93, 94, 95, 96, 97, 98, 99, 100, 101, 102, 103, 104, 105, 106, 107, 108, 109, 110, 111, 112, 113, 114, 115, 116, 117, 118, 119, 120, 121, 122, 123, 124, 125, 126, 127, 128, 129, 130, 131, 132, 133, 134, 135, 136, 137, 138, 139, 140, 141, 142, 143, 144, 145, 146, 147, 148, 149, 150, 151, 152, 153, 154, 155, 156, 157, 158, 159, 160, 161, 162, 163, 164, 165, 166, 167, 168, 169, 170, 171, 172, 173, 174, 175, 176, 177, 178, 179, 180, 181, 182, 183, 184, 185, 186, 187, 188, 189, 190, 191, 192, 193, 194, 195, 196, 197, 198, 199, 200, 201, 202, 203, 204, 205, 206, 207, 208, 209, 210, 211, 212, 213, 214, 215, 216, 217, 218, 219, 220, 221, 222, 223, 224, 225, 226, 227, 228, 229, 230, 231, 232, 233, 234, 235, 236, 237, 238, 239, 240, 241, 242, 243, 244, 245, 246, 247, 248, 249)\n",
            "73\n",
            "150\n",
            "13\n",
            "70\n",
            "153\n"
          ]
        }
      ],
      "source": [
        "# create a tuple with numbers from 60 to 250\n",
        "list_a = list(range(60,250))\n",
        "print(list_a)\n",
        "tuple_a = tuple(list_a)\n",
        "print(tuple_a)\n",
        "# then assign 73 and 150 to two variables from the tuple  \n",
        "var_1 = tuple_a[13]\n",
        "print(var_1)\n",
        "var_2 = tuple_a[90]\n",
        "print(var_2)\n",
        "print(tuple_a.index((73)))\n",
        "# 1st occurance of the value specified (value of 130 & 213)\n",
        "print(tuple_a.index((130)))\n",
        "print(tuple_a.index((213)))"
      ]
    },
    {
      "cell_type": "markdown",
      "metadata": {
        "id": "t_WJXuacAuJm"
      },
      "source": [
        "## 10. Dictionaries\n",
        "- ### Assignment"
      ]
    },
    {
      "cell_type": "code",
      "execution_count": null,
      "metadata": {
        "colab": {
          "base_uri": "https://localhost:8080/"
        },
        "id": "XFk-3qRnAuJm",
        "outputId": "ef88238b-11f5-4584-e481-c57f348fb0f3"
      },
      "outputs": [
        {
          "name": "stdout",
          "output_type": "stream",
          "text": [
            "{'language': 'Python', 'ver': 3.8, 'installed': True, 'data_struct_tuple': (3, 2, 3, 5)}\n",
            "dict_keys(['language', 'ver', 'installed', 'data_struct_tuple'])\n",
            "dict_values(['Python', 3.8, True, (3, 2, 3, 5)])\n",
            "dict_items([('language', 'Python'), ('ver', 3.8), ('installed', True), ('data_struct_tuple', (3, 2, 3, 5))])\n"
          ]
        }
      ],
      "source": [
        "# \"Key\": value -> any of the data types or structures\n",
        "# { }\n",
        "# json.load()\n",
        "# data frame can be converted to dictionaries\n",
        "# framework to hold variales\n",
        "dict_ex_1 = {\"language\":\"Python\",\"ver\":3.8,\"installed\":True, \"data_struct_tuple\":(3,2,3,5)}\n",
        "print(dict_ex_1)\n",
        "print(dict_ex_1.keys())\n",
        "print(dict_ex_1.values())\n",
        "print(dict_ex_1.items())"
      ]
    },
    {
      "cell_type": "markdown",
      "metadata": {
        "id": "O5ZCTCxJAuJm"
      },
      "source": [
        "- ### Accessing Items"
      ]
    },
    {
      "cell_type": "code",
      "execution_count": null,
      "metadata": {
        "id": "Lc0SRH26AuJm"
      },
      "outputs": [],
      "source": [
        "# disctionary[\"key\"]\n",
        "language = dict_ex_1[\"language\"]\n",
        "print(language)"
      ]
    },
    {
      "cell_type": "markdown",
      "metadata": {
        "id": "GMGypmssAuJn"
      },
      "source": [
        "- ### Update and add Values with `update()`"
      ]
    },
    {
      "cell_type": "code",
      "execution_count": null,
      "metadata": {
        "colab": {
          "base_uri": "https://localhost:8080/"
        },
        "id": "Ocp2Nc_fAuJn",
        "outputId": "1eee57b1-4625-44f1-dd82-87e2da7f90ce"
      },
      "outputs": [
        {
          "name": "stdout",
          "output_type": "stream",
          "text": [
            "{'language': 'Python', 'ver': 3.9, 'installed': True, 'data_struct_tuple': (3, 2, 3, 5)}\n",
            "{'language': 'Python', 'ver': 3.9, 'installed': True, 'data_struct_tuple': (3, 2, 3, 5), 'upcoming_ver': 3.12}\n"
          ]
        }
      ],
      "source": [
        "# already exisits , will update existing\n",
        "# if not exists , will create new key value pair\n",
        "dict_ex_1.update({\"ver\":3.9})\n",
        "print(dict_ex_1)\n",
        "dict_ex_1.update({\"upcoming_ver\":3.12})\n",
        "print(dict_ex_1)"
      ]
    },
    {
      "cell_type": "markdown",
      "metadata": {
        "id": "-wSCieizAuJn"
      },
      "source": [
        "- ### `keys()` and `values()`"
      ]
    },
    {
      "cell_type": "code",
      "execution_count": null,
      "metadata": {
        "colab": {
          "base_uri": "https://localhost:8080/"
        },
        "id": "yRAoJr1_AuJn",
        "outputId": "cbe4236a-a2cf-44cf-cc8f-2a44a245d515"
      },
      "outputs": [
        {
          "name": "stdout",
          "output_type": "stream",
          "text": [
            "{'language': 'Python', 'ver': 3.9, 'installed': True, 'data_struct_tuple': (3, 2, 3, 5), 'upcoming_ver': 3.12}\n",
            "dict_keys(['language', 'ver', 'installed', 'data_struct_tuple', 'upcoming_ver'])\n",
            "dict_values(['Python', 3.9, True, (3, 2, 3, 5), 3.12])\n"
          ]
        }
      ],
      "source": [
        "print(dict_ex_1)\n",
        "print(dict_ex_1.keys())\n",
        "print(dict_ex_1.values())"
      ]
    },
    {
      "cell_type": "markdown",
      "metadata": {
        "id": "Bl56b_OGAuJn"
      },
      "source": [
        "## 11. Control Flow\n",
        "- ### IF"
      ]
    },
    {
      "cell_type": "code",
      "execution_count": null,
      "metadata": {
        "colab": {
          "base_uri": "https://localhost:8080/"
        },
        "id": "jmRXiH_3AuJn",
        "outputId": "f2af18e9-3b7f-4a8d-dd49-2d016a49ff0a"
      },
      "outputs": [
        {
          "name": "stdout",
          "output_type": "stream",
          "text": [
            "True\n",
            "7\n",
            "9\n",
            "3\n",
            "True False\n",
            "False\n",
            "True\n"
          ]
        }
      ],
      "source": [
        "# if <cond>:\n",
        "#   statement1\n",
        "#   statement2\n",
        "a , b = 3 , 4\n",
        "if a < b:\n",
        "  print(\"True\")\n",
        "\n",
        "if a > b:\n",
        "  print(\"False\")\n",
        "\n",
        "if a + b >= 5:\n",
        "  print(a+b)\n",
        "  print(a**2)\n",
        "  b = a\n",
        "  print(b)\n",
        "\n",
        "list_bool = list(range(3))\n",
        "list_empty = []\n",
        "# bool can be applied for list , string , tuples\n",
        "print(bool(list_bool),bool(list_empty))\n",
        "\n",
        "# not key word\n",
        "print(not True)\n",
        "print(not False)"
      ]
    },
    {
      "cell_type": "code",
      "execution_count": null,
      "metadata": {
        "colab": {
          "base_uri": "https://localhost:8080/"
        },
        "id": "qhEfv5JGMitZ",
        "outputId": "19cf6c2c-2108-4beb-e841-6d48a199ca81"
      },
      "outputs": [
        {
          "name": "stdout",
          "output_type": "stream",
          "text": [
            "second one\n"
          ]
        }
      ],
      "source": [
        "if list_empty:\n",
        "  print(len(list_empty))\n",
        "\n",
        "if not list_empty:\n",
        "  print(\"second one\")\n",
        "\n",
        "if not list_bool:\n",
        "  print(len(list_bool))"
      ]
    },
    {
      "cell_type": "code",
      "execution_count": null,
      "metadata": {
        "colab": {
          "base_uri": "https://localhost:8080/"
        },
        "id": "gqTDi-1KNE_P",
        "outputId": "dd3b1b72-8dba-4f9f-8008-6e1736052849"
      },
      "outputs": [
        {
          "name": "stdout",
          "output_type": "stream",
          "text": [
            "AND condition 2\n",
            "Lists 2 !\n"
          ]
        }
      ],
      "source": [
        "# AND , OR\n",
        "# a AND b = true iff a and b are both true\n",
        "# a OR b = true if a or b are true\n",
        "if True and False:\n",
        "  print(\"AND condition 1\")\n",
        "\n",
        "if True and True:\n",
        "  print(\"AND condition 2\")\n",
        "\n",
        "if list_bool and list_empty: \n",
        "  print(\"Lists 1 !\")\n",
        "\n",
        "if list_bool and not list_empty: # -> True and Not False -> True and True\n",
        "  print(\"Lists 2 !\")"
      ]
    },
    {
      "cell_type": "code",
      "execution_count": null,
      "metadata": {
        "colab": {
          "base_uri": "https://localhost:8080/"
        },
        "id": "jjrBcBncOFCm",
        "outputId": "a80f4607-0fed-46ac-d1b6-531730f97f58"
      },
      "outputs": [
        {
          "name": "stdout",
          "output_type": "stream",
          "text": [
            "Lists 1 !\n"
          ]
        }
      ],
      "source": [
        "if list_bool or list_empty: \n",
        "  print(\"Lists 1 !\")"
      ]
    },
    {
      "cell_type": "code",
      "execution_count": null,
      "metadata": {
        "colab": {
          "base_uri": "https://localhost:8080/"
        },
        "id": "YqlyRIpxOT8u",
        "outputId": "54988120-30eb-4274-ffd3-d3f618d8268b"
      },
      "outputs": [
        {
          "name": "stdout",
          "output_type": "stream",
          "text": [
            "chiranth\n",
            "\n",
            "chiranth\n"
          ]
        }
      ],
      "source": [
        "# and make the condition fail using not\n",
        "if not list_bool or list_empty: \n",
        "  print(\"Lists 2 !\")\n",
        "\n",
        "name = \"chiranth\"\n",
        "if name:\n",
        "  print(name)\n",
        "\n",
        "empty_string = \"\"\n",
        "if not empty_string: # len is 0 -> bool(0) is False -> not false is true\n",
        "  print(empty_string)\n",
        "  print(name)"
      ]
    },
    {
      "cell_type": "markdown",
      "metadata": {
        "id": "gUit3ZM3AuJn"
      },
      "source": [
        "- ### ELSE"
      ]
    },
    {
      "cell_type": "code",
      "execution_count": null,
      "metadata": {
        "colab": {
          "base_uri": "https://localhost:8080/"
        },
        "id": "0e8nnYmsND9d",
        "outputId": "13e5f742-60f4-4ccf-cc64-889a531f08e2"
      },
      "outputs": [
        {
          "name": "stdout",
          "output_type": "stream",
          "text": [
            "780\n"
          ]
        }
      ],
      "source": [
        "# if cond:\n",
        "#   statements\n",
        "# else:\n",
        "#   statements_else\n",
        "\n",
        "num_1 , num_2 = 780 , 123\n",
        "\n",
        "if num_1 < num_2:\n",
        "  print(num_2)\n",
        "else:\n",
        "  print(num_1)"
      ]
    },
    {
      "cell_type": "markdown",
      "metadata": {
        "id": "W8YfYp2HAuJn"
      },
      "source": [
        "- ### ELIF"
      ]
    },
    {
      "cell_type": "code",
      "execution_count": null,
      "metadata": {
        "colab": {
          "base_uri": "https://localhost:8080/"
        },
        "id": "8eAzHW4aAuJn",
        "outputId": "88fcd7f5-75ee-4c2d-95bf-8f55dcde8c76"
      },
      "outputs": [
        {
          "name": "stdout",
          "output_type": "stream",
          "text": [
            "All conditions failed\n"
          ]
        }
      ],
      "source": [
        "# 2nd condition will skipped if 1st condition is already resulting in true  \n",
        "num_1 , num_2 = 400,40\n",
        "\n",
        "if num_1 < num_2:\n",
        "  print(num_2)\n",
        "elif num_1 == num_2:\n",
        "  print(\"Equal_1\")\n",
        "else:\n",
        "  print(\"All conditions failed\")"
      ]
    },
    {
      "cell_type": "markdown",
      "metadata": {
        "id": "30kYVkqeAuJo"
      },
      "source": [
        "- ### Shorthand If Else"
      ]
    },
    {
      "cell_type": "code",
      "execution_count": null,
      "metadata": {
        "colab": {
          "base_uri": "https://localhost:8080/"
        },
        "id": "m-OV1ssYAuJo",
        "outputId": "bbfa24f8-073b-4690-e901-231e64ab79e7"
      },
      "outputs": [
        {
          "name": "stdout",
          "output_type": "stream",
          "text": [
            "less than\n",
            "4\n"
          ]
        }
      ],
      "source": [
        "# statement 1 if <cond> else statement_2\n",
        "print(\"greater than\") if 3 > 4 else print(\"less than\")\n",
        "num_ifelse = 3 if 3 > 4 else 4\n",
        "print(num_ifelse)"
      ]
    },
    {
      "cell_type": "code",
      "execution_count": null,
      "metadata": {
        "colab": {
          "base_uri": "https://localhost:8080/"
        },
        "id": "oGD0YJIOR3E7",
        "outputId": "ad62dda8-6735-4969-c3a0-403a529c6e76"
      },
      "outputs": [
        {
          "name": "stdout",
          "output_type": "stream",
          "text": [
            "[3, 4, 2, 5]\n"
          ]
        }
      ],
      "source": [
        "# create a list if list has > 4 elements , else add an element\n",
        "list_var = [2,3,4,2,5]\n",
        "list_var.remove(2) if len(list_var) > 4 else list_var.append(5)\n",
        "print(list_var)"
      ]
    },
    {
      "cell_type": "markdown",
      "metadata": {
        "id": "fzaNuLd9AuJo"
      },
      "source": [
        "## 12. Loops\n",
        "- ### FOR loop"
      ]
    },
    {
      "cell_type": "code",
      "execution_count": null,
      "metadata": {
        "colab": {
          "base_uri": "https://localhost:8080/"
        },
        "id": "7qwwrrIhAuJo",
        "outputId": "919176ab-3890-4d36-fb76-7729434fc470"
      },
      "outputs": [
        {
          "name": "stdout",
          "output_type": "stream",
          "text": [
            "0\n",
            "hello world\n",
            "1\n",
            "hello world\n",
            "2\n",
            "hello world\n",
            "3\n",
            "hello world\n",
            "4\n",
            "hello world\n"
          ]
        }
      ],
      "source": [
        "list_iter = list(range(5))\n",
        "for i in list_iter:\n",
        "  print(i)\n",
        "  print(\"hello world\")"
      ]
    },
    {
      "cell_type": "code",
      "execution_count": null,
      "metadata": {
        "colab": {
          "base_uri": "https://localhost:8080/"
        },
        "id": "s_iXGmMsUnh0",
        "outputId": "429d544c-4916-45cc-deeb-ca4415856906"
      },
      "outputs": [
        {
          "name": "stdout",
          "output_type": "stream",
          "text": [
            "1\n",
            "2\n",
            "3\n",
            "4\n",
            "5\n"
          ]
        }
      ],
      "source": [
        "iter_tuple = tuple(range(5))\n",
        "for i in iter_tuple:\n",
        "  print(i+1)"
      ]
    },
    {
      "cell_type": "code",
      "execution_count": null,
      "metadata": {
        "colab": {
          "base_uri": "https://localhost:8080/"
        },
        "id": "aiTycYQ7U-Ub",
        "outputId": "95420d26-9f1b-41ed-b83c-2b2d4156c930"
      },
      "outputs": [
        {
          "name": "stdout",
          "output_type": "stream",
          "text": [
            "Python\n",
            "3.9\n",
            "True\n",
            "(3, 2, 3, 5)\n",
            "3.12\n"
          ]
        }
      ],
      "source": [
        "for key in dict_ex_1.keys():\n",
        "  print(dict_ex_1[key])"
      ]
    },
    {
      "cell_type": "code",
      "execution_count": null,
      "metadata": {
        "colab": {
          "base_uri": "https://localhost:8080/"
        },
        "id": "M3gr2wFdVTLn",
        "outputId": "0b90c857-c1cf-48fd-9edd-0aaa0ae523d9"
      },
      "outputs": [
        {
          "name": "stdout",
          "output_type": "stream",
          "text": [
            "[0, 1, 2, 3, 4, 0, 1, 2, 3, 4, 5, 6, 7, 8, 9, 10, 11, 12, 13, 14, 15, 16, 17, 18, 19, 20, 21, 22, 23, 24, 25, 26, 27, 28, 29, 30, 31, 32, 33, 34, 35, 36, 37, 38, 39, 40, 41, 42, 43, 44, 45, 46, 47, 48, 49, 50, 51, 52, 53, 54, 55, 56, 57, 58, 59, 60, 61, 62, 63, 64, 65, 66, 67, 68, 69, 70, 71, 72, 73, 74, 76, 77, 78, 79]\n"
          ]
        }
      ],
      "source": [
        "# continue and break\n",
        "for i in range(100):\n",
        "  if i == 75:\n",
        "    continue\n",
        "  if i == 80:\n",
        "    break\n",
        "  list_iter.append(i)\n",
        "\n",
        "print(list_iter)"
      ]
    },
    {
      "cell_type": "markdown",
      "metadata": {
        "id": "HmH-TUZ-AuJo"
      },
      "source": [
        "- ### WHILE loop"
      ]
    },
    {
      "cell_type": "code",
      "execution_count": null,
      "metadata": {
        "colab": {
          "base_uri": "https://localhost:8080/"
        },
        "id": "ad4YuXeFAuJo",
        "outputId": "459a81f9-0446-417a-8336-7b45d3ff03f3"
      },
      "outputs": [
        {
          "name": "stdout",
          "output_type": "stream",
          "text": [
            "[0, 1, 2, 3]\n",
            "[0, 1, 2]\n",
            "[0, 1]\n",
            "[0]\n",
            "[]\n",
            "[]\n",
            "[0, 1, 2, 3, 4]\n",
            "[0, 1, 2, 3]\n",
            "[0, 1, 2]\n",
            "[0, 1]\n",
            "[0]\n",
            "[]\n",
            "[0, 1, 2, 3, 4]\n",
            "4\n",
            "[0, 1, 2, 3]\n",
            "3\n",
            "[0, 1, 2]\n"
          ]
        }
      ],
      "source": [
        "# while <cond>:\n",
        "# statements\n",
        "list_iter = list(range(5))\n",
        "while list_iter:\n",
        "  list_iter.pop()\n",
        "  print(list_iter)\n",
        "\n",
        "print(list_iter)\n",
        "\n",
        "list_iter = list(range(5))\n",
        "while list_iter:\n",
        "  print(list_iter)\n",
        "  list_iter.pop()\n",
        "\n",
        "print(list_iter)\n",
        "\n",
        "list_iter = list(range(5))\n",
        "while list_iter:\n",
        "  print(list_iter)\n",
        "  i = list_iter.pop()\n",
        "  print(i)\n",
        "  if i == 2:\n",
        "    continue\n",
        "  if i == 3:\n",
        "    break\n",
        "    print(i+100)\n",
        "print(list_iter)\n",
        "\n"
      ]
    },
    {
      "cell_type": "code",
      "execution_count": null,
      "metadata": {
        "colab": {
          "base_uri": "https://localhost:8080/"
        },
        "id": "v3d1vshNYYwe",
        "outputId": "97dd6f35-8da0-4221-aeb9-c7fa7baf3fc9"
      },
      "outputs": [
        {
          "name": "stdout",
          "output_type": "stream",
          "text": [
            "c\n"
          ]
        }
      ],
      "source": [
        "# print elements of string break if its a vovel\n",
        "# use for loop\n",
        "vovel_str = \"aeiou\"\n",
        "eg_string = \"rhythmic\"\n",
        "vovel_str_list = list(vovel_str)\n",
        "eg_string_list = list(eg_string)\n",
        "while eg_string_list:\n",
        "  vari = eg_string_list.pop()\n",
        "  if vari not in vovel_str_list:\n",
        "      print(vari)\n",
        "      break\n",
        "  else:\n",
        "    continue\n",
        "    print(vari)"
      ]
    },
    {
      "cell_type": "code",
      "execution_count": 4,
      "metadata": {
        "colab": {
          "base_uri": "https://localhost:8080/"
        },
        "id": "-tmUZs1RQ8-B",
        "outputId": "37bc2917-efe8-4ff9-ffa1-d630fae5c3e3"
      },
      "outputs": [
        {
          "name": "stdout",
          "output_type": "stream",
          "text": [
            "['hi', 'ih']\n",
            "[17, 17]\n",
            "hi\n"
          ]
        }
      ],
      "source": [
        "#1. Submit the .ipynb file from todays class\n",
        "\n",
        "#2. Python string | ascii_lowercase - GeeksforGeeks\n",
        "'''A Computer Science portal for geeks. It contains well written, well thought and well explained computer science and programming articles, quizzes and practice/competitive programming/company interview Questions.\n",
        "Given a string of words, you need to find the highest scoring word.\n",
        "Each letter of a word scores points according to its position in the alphabet: a = 1, b = 2, c = 3 etc.\n",
        "For example, the score of abad is 8 (1 + 2 + 1 + 4).\n",
        "You need to return the highest scoring word as a string.\n",
        "If two words score the same, return the word that appears earliest in the original string.\n",
        "All letters will be lowercase and all inputs will be valid.\n",
        "Comment your code to explain what is happening in each logical step.'''\n",
        "values ={\n",
        "    'a':1,\n",
        "    'b':2,\n",
        "    'c':3,\n",
        "    'd':4,\n",
        "    'e':5,\n",
        "    'f':6,\n",
        "    'g':7,\n",
        "    'h':8,\n",
        "    'i':9,\n",
        "    'j':10,\n",
        "    'k':11,\n",
        "    'l':12,\n",
        "    'm':13,\n",
        "    'n':14,\n",
        "    'o':15,\n",
        "    'p':16,\n",
        "    'q':17,\n",
        "    'r':18,\n",
        "    's':19,\n",
        "    't':20,\n",
        "    'u':21,\n",
        "    'v':22,\n",
        "    'w':23,\n",
        "    'x':24,\n",
        "    'y':25,\n",
        "    'z':26,\n",
        "}\n",
        "word_value = []\n",
        "string_of_words = \"hi ih\"\n",
        "list_of_words = string_of_words.split()\n",
        "print(list_of_words)\n",
        "for words in list_of_words:\n",
        "  #print(words)\n",
        "  value = 0\n",
        "  for char_o_b_o in words:\n",
        "    value = value + values[char_o_b_o]\n",
        "  #print(value)\n",
        "  word_value.append(value)\n",
        "print(word_value)\n",
        "max_value = max(word_value)\n",
        "index_no = word_value.index(max_value)\n",
        "print(list_of_words[index_no])"
      ]
    },
    {
      "cell_type": "code",
      "execution_count": 1,
      "metadata": {
        "colab": {
          "base_uri": "https://localhost:8080/",
          "height": 35
        },
        "id": "iWgMA8UQJ7k3",
        "outputId": "6351c7db-1783-4ed3-a38d-526857b15268"
      },
      "outputs": [
        {
          "data": {
            "text/plain": [
              "'chiranth'"
            ]
          },
          "execution_count": 1,
          "metadata": {},
          "output_type": "execute_result"
        }
      ],
      "source": [
        "def word_value(input_word):\n",
        "      values = {\n",
        "        'a': 1,\n",
        "        'b': 2,\n",
        "        'c': 3,\n",
        "        'd': 4,\n",
        "        'e': 5,\n",
        "        'f': 6,\n",
        "        'g': 7,\n",
        "        'h': 8,\n",
        "        'i': 9,\n",
        "        'j': 10,\n",
        "        'k': 11,\n",
        "        'l': 12,\n",
        "        'm': 13,\n",
        "        'n': 14,\n",
        "        'o': 15,\n",
        "        'p': 16,\n",
        "        'q': 17,\n",
        "        'r': 18,\n",
        "        's': 19,\n",
        "        't': 20,\n",
        "        'u': 21,\n",
        "        'v': 22,\n",
        "        'w': 23,\n",
        "        'x': 24,\n",
        "        'y': 25,\n",
        "        'z': 26\n",
        "      }      \n",
        "      value = 0\n",
        "      for letter in input_word:\n",
        "          value += values[letter]\n",
        "      return value\n",
        "\n",
        "def high(x):\n",
        "    word_list = x.split(\" \")\n",
        "\n",
        "    word_values = []\n",
        "    for word in word_list:\n",
        "        word_values.append(word_value(word))\n",
        "\n",
        "    max_value = max(word_values)\n",
        "    index_of_max = word_values.index(max_value)\n",
        "\n",
        "    return word_list[index_of_max]\n",
        "\n",
        "high(\"hi this is chiranth\")"
      ]
    },
    {
      "cell_type": "code",
      "execution_count": null,
      "metadata": {
        "colab": {
          "base_uri": "https://localhost:8080/"
        },
        "id": "197mjZa_RC37",
        "outputId": "0a23255f-137f-4327-c2a8-ba936b9b48c1"
      },
      "outputs": [
        {
          "name": "stdout",
          "output_type": "stream",
          "text": [
            "[2, 6, 8, 14, 22, 36, 58, 94, 152, 246]\n"
          ]
        }
      ],
      "source": [
        "'''https://www.geeksforgeeks.org/python-string-ascii_lowercase/\n",
        "3. Write a program that takes input of two numbers, say num_1 and num_2, it should generate the fibonacci numbers using these two as the starting point till the next 10 numbers\n",
        "Example: If the input is 2 and 6 the output should be 2, 6, 8, 14, 22, 36, 58, 94, 152, 246\n",
        "   If the input is 5 and -3 the output should be 5, -3, 2, -1, 1, 0, 1, 1, 2, 3\n",
        "Use the input() documentation to implement taking input from the user:\n",
        "https://www.geeksforgeeks.org/how-to-take-integer-input-in-python/\n",
        "Comment each line of code to explain the logic used in achieveing the results.'''\n",
        "num_1 = 2\n",
        "num_2 = 6\n",
        "fibonacy_list = list()\n",
        "fibonacy_list.append(num_1)\n",
        "fibonacy_list.append(num_2)\n",
        "while len(fibonacy_list)!= 10:\n",
        "  new_fib_val = num_1 + num_2\n",
        "  fibonacy_list.append(new_fib_val)\n",
        "  num_1 = num_2\n",
        "  num_2 = new_fib_val\n",
        "print(fibonacy_list)"
      ]
    },
    {
      "cell_type": "markdown",
      "metadata": {
        "id": "YluXJZtmAuJo"
      },
      "source": [
        "## 13. Functions\n",
        "- ### Defining a function"
      ]
    },
    {
      "cell_type": "code",
      "execution_count": null,
      "metadata": {
        "id": "IX1chJOlAuJo"
      },
      "outputs": [],
      "source": []
    },
    {
      "cell_type": "markdown",
      "metadata": {
        "id": "dsCr4EgeAuJo"
      },
      "source": [
        "- ### Paramters & Arguments"
      ]
    },
    {
      "cell_type": "code",
      "execution_count": null,
      "metadata": {
        "id": "IRd8jI9TAuJo"
      },
      "outputs": [],
      "source": []
    },
    {
      "cell_type": "markdown",
      "metadata": {
        "id": "uCy7sCL_AuJo"
      },
      "source": [
        "- ### Default Parameters"
      ]
    },
    {
      "cell_type": "code",
      "execution_count": null,
      "metadata": {
        "id": "1hmaTsl5AuJo"
      },
      "outputs": [],
      "source": []
    },
    {
      "cell_type": "markdown",
      "metadata": {
        "id": "m3gKA0rMAuJo"
      },
      "source": [
        "- ### `return`"
      ]
    },
    {
      "cell_type": "code",
      "execution_count": null,
      "metadata": {
        "id": "j7VRP7gzAuJp"
      },
      "outputs": [],
      "source": []
    },
    {
      "cell_type": "markdown",
      "metadata": {
        "id": "58jJpJ4BAuJp"
      },
      "source": [
        "- ### Scope"
      ]
    },
    {
      "cell_type": "code",
      "execution_count": null,
      "metadata": {
        "id": "Bxb-lS1mAuJp"
      },
      "outputs": [],
      "source": []
    }
  ],
  "metadata": {
    "colab": {
      "provenance": []
    },
    "gpuClass": "standard",
    "kernelspec": {
      "display_name": "Python 3",
      "name": "python3"
    },
    "language_info": {
      "codemirror_mode": {
        "name": "ipython",
        "version": 3
      },
      "file_extension": ".py",
      "mimetype": "text/x-python",
      "name": "python",
      "nbconvert_exporter": "python",
      "pygments_lexer": "ipython3",
      "version": "3.8.10"
    },
    "orig_nbformat": 4
  },
  "nbformat": 4,
  "nbformat_minor": 0
}
