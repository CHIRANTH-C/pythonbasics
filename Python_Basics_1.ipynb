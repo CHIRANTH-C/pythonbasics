{
  "cells": [
    {
      "cell_type": "markdown",
      "metadata": {
        "id": "view-in-github",
        "colab_type": "text"
      },
      "source": [
        "<a href=\"https://colab.research.google.com/github/CHIRANTH-C/pythonbasics/blob/main/Python_Basics_1.ipynb\" target=\"_parent\"><img src=\"https://colab.research.google.com/assets/colab-badge.svg\" alt=\"Open In Colab\"/></a>"
      ]
    },
    {
      "cell_type": "markdown",
      "metadata": {
        "id": "RrG5SPyQ38m3"
      },
      "source": [
        "# Python Basics\n",
        "## Guiding Principle of Python's Design"
      ]
    },
    {
      "cell_type": "code",
      "execution_count": 1,
      "metadata": {
        "colab": {
          "base_uri": "https://localhost:8080/"
        },
        "id": "1Epdo33E38m5",
        "outputId": "3b036743-aa80-4f99-c8ba-fc6cae19803c"
      },
      "outputs": [
        {
          "output_type": "stream",
          "name": "stdout",
          "text": [
            "The Zen of Python, by Tim Peters\n",
            "\n",
            "Beautiful is better than ugly.\n",
            "Explicit is better than implicit.\n",
            "Simple is better than complex.\n",
            "Complex is better than complicated.\n",
            "Flat is better than nested.\n",
            "Sparse is better than dense.\n",
            "Readability counts.\n",
            "Special cases aren't special enough to break the rules.\n",
            "Although practicality beats purity.\n",
            "Errors should never pass silently.\n",
            "Unless explicitly silenced.\n",
            "In the face of ambiguity, refuse the temptation to guess.\n",
            "There should be one-- and preferably only one --obvious way to do it.\n",
            "Although that way may not be obvious at first unless you're Dutch.\n",
            "Now is better than never.\n",
            "Although never is often better than *right* now.\n",
            "If the implementation is hard to explain, it's a bad idea.\n",
            "If the implementation is easy to explain, it may be a good idea.\n",
            "Namespaces are one honking great idea -- let's do more of those!\n"
          ]
        }
      ],
      "source": [
        "import this"
      ]
    },
    {
      "cell_type": "markdown",
      "metadata": {
        "id": "NgOSW9PF38m6"
      },
      "source": [
        "## 1. Variable Assignment and Basic Data Types\n",
        "Variable naming rules: \n",
        "1. Variable names are case sensitive\n",
        "2. Variable must start with a character or underscore\n",
        "3. Variable names can only contain alphanumeric characters and underscores\n",
        "4. Variable name cannot be a python keyword\n",
        "\n",
        "- ### Integers"
      ]
    },
    {
      "cell_type": "code",
      "execution_count": 2,
      "metadata": {
        "colab": {
          "base_uri": "https://localhost:8080/"
        },
        "id": "6jvHl7uR38m6",
        "outputId": "c2184174-f1c9-4f4b-e05e-fdf3aef92199"
      },
      "outputs": [
        {
          "output_type": "stream",
          "name": "stdout",
          "text": [
            "1\n",
            "2\n",
            "3\n",
            "4\n"
          ]
        }
      ],
      "source": [
        "number_first = 1\n",
        "NUMBER_FIRST = 2\n",
        "_num = 3\n",
        "num_2 = 4\n",
        "print(number_first)\n",
        "print(NUMBER_FIRST)\n",
        "print(_num)\n",
        "print(num_2)"
      ]
    },
    {
      "cell_type": "markdown",
      "metadata": {
        "id": "YhEz5rMz38m6"
      },
      "source": [
        "- ### Strings"
      ]
    },
    {
      "cell_type": "code",
      "execution_count": 4,
      "metadata": {
        "colab": {
          "base_uri": "https://localhost:8080/"
        },
        "id": "QFYB3DCr38m7",
        "outputId": "a6dc1ecb-22ca-4dba-efe6-01fd9907b067"
      },
      "outputs": [
        {
          "output_type": "stream",
          "name": "stdout",
          "text": [
            "Hello, world!\n",
            "First python class\n",
            "num12345\n",
            "a\n"
          ]
        }
      ],
      "source": [
        "name = \"Hello, world!\"\n",
        "single_string = \"First python class\"\n",
        "print(name)\n",
        "print(single_string)\n",
        "alphanumeric = 'num12345'\n",
        "single_char = 'a'\n",
        "print(alphanumeric)\n",
        "print(single_char)"
      ]
    },
    {
      "cell_type": "markdown",
      "metadata": {
        "id": "Nm0OI2k938m7"
      },
      "source": [
        "- ### Float"
      ]
    },
    {
      "cell_type": "code",
      "execution_count": 6,
      "metadata": {
        "colab": {
          "base_uri": "https://localhost:8080/"
        },
        "id": "5lazJAXi38m7",
        "outputId": "552518cd-b00f-4aaa-a25a-abc905c85db7"
      },
      "outputs": [
        {
          "output_type": "stream",
          "name": "stdout",
          "text": [
            "3.1415\n",
            "0.5\n"
          ]
        }
      ],
      "source": [
        "pie = 3.1415\n",
        "division = 1/2\n",
        "print(pie)\n",
        "print(division)"
      ]
    },
    {
      "cell_type": "markdown",
      "metadata": {
        "id": "yDncztO138m7"
      },
      "source": [
        "- ### Booleans"
      ]
    },
    {
      "cell_type": "code",
      "execution_count": 10,
      "metadata": {
        "colab": {
          "base_uri": "https://localhost:8080/"
        },
        "id": "UO7FJj-t38m7",
        "outputId": "411eb96e-bfa1-4bca-fb90-f80b76d60a5f"
      },
      "outputs": [
        {
          "output_type": "stream",
          "name": "stdout",
          "text": [
            "False\n",
            "True\n",
            "False\n",
            "True\n"
          ]
        },
        {
          "output_type": "execute_result",
          "data": {
            "text/plain": [
              "True"
            ]
          },
          "metadata": {},
          "execution_count": 10
        }
      ],
      "source": [
        "bool_1 = True\n",
        "bool_2 = False\n",
        "a = 0\n",
        "bool_a = bool(a)\n",
        "print(bool_a)\n",
        "b = 1\n",
        "bool_b = bool(b)\n",
        "print(bool_b)\n",
        "bool_string = \"\"\n",
        "print(bool(bool_string))\n",
        "bool_eg = \"Python\"\n",
        "print(bool(bool_eg))\n",
        "num_float = 3.0\n",
        "bool(num_float)"
      ]
    },
    {
      "cell_type": "markdown",
      "metadata": {
        "id": "-VQodImf38m7"
      },
      "source": [
        "- ### Multiline Assignment"
      ]
    },
    {
      "cell_type": "code",
      "execution_count": 12,
      "metadata": {
        "colab": {
          "base_uri": "https://localhost:8080/"
        },
        "id": "nf1hHmEz38m7",
        "outputId": "5a76c04a-e469-4124-e8c2-58afe40d2d93"
      },
      "outputs": [
        {
          "output_type": "stream",
          "name": "stdout",
          "text": [
            "1 2 3 Happy Day!\n",
            "1 this! 3.0 False\n"
          ]
        }
      ],
      "source": [
        "num_1 , num_2 , num_3 , Var_4 = 1 , 2 , 3 , \"Happy Day!\"\n",
        "print(num_1,num_2,num_3,Var_4)\n",
        "var_a , var_b , var_c , var_d = 1 , \"this!\" , 3.0 , False\n",
        "print(var_a,var_b,var_c,var_d)"
      ]
    },
    {
      "cell_type": "markdown",
      "metadata": {
        "id": "PJnnn3wz38m7"
      },
      "source": [
        "## 2. Comments"
      ]
    },
    {
      "cell_type": "code",
      "execution_count": 14,
      "metadata": {
        "colab": {
          "base_uri": "https://localhost:8080/"
        },
        "id": "yilx3Hu838m8",
        "outputId": "dc8316c2-fea3-4ce5-d630-c08ce2fe2033"
      },
      "outputs": [
        {
          "output_type": "stream",
          "name": "stdout",
          "text": [
            "50\n"
          ]
        }
      ],
      "source": [
        "# this is an example comment line\n",
        "a = 50\n",
        "# a = 30\n",
        "# a = 60\n",
        "print(a)"
      ]
    },
    {
      "cell_type": "markdown",
      "metadata": {
        "id": "q8tD_Tjl38m8"
      },
      "source": [
        "## 3. Python `type()` function"
      ]
    },
    {
      "cell_type": "code",
      "execution_count": 15,
      "metadata": {
        "colab": {
          "base_uri": "https://localhost:8080/"
        },
        "id": "OC-CDiOU38m8",
        "outputId": "395d393a-b338-49fa-c461-95e967c7168e"
      },
      "outputs": [
        {
          "output_type": "stream",
          "name": "stdout",
          "text": [
            "1 this! 3.0 False\n",
            "<class 'int'> <class 'str'> <class 'float'> <class 'bool'>\n"
          ]
        }
      ],
      "source": [
        "print(var_a, var_b, var_c , var_d)\n",
        "print(type(var_a), type(var_b), type(var_c) , type(var_d))"
      ]
    },
    {
      "cell_type": "markdown",
      "metadata": {
        "id": "Me7VlKrO38m8"
      },
      "source": [
        "## 4. Type Casting"
      ]
    },
    {
      "cell_type": "code",
      "execution_count": 25,
      "metadata": {
        "colab": {
          "base_uri": "https://localhost:8080/"
        },
        "id": "Zv_u0fqm38m8",
        "outputId": "b5a0fb52-2fa0-4b50-ce83-c98ef0302a31"
      },
      "outputs": [
        {
          "output_type": "stream",
          "name": "stdout",
          "text": [
            "<class 'int'> <class 'str'> <class 'float'> <class 'bool'>\n",
            "int_to_string : 1 <class 'str'>\n",
            "float_to_string : 3.0 <class 'str'>\n",
            "bool_to_string : False <class 'str'>\n"
          ]
        }
      ],
      "source": [
        "# variables to string\n",
        "print(type(var_a), type(var_b), type(var_c), type(var_d))\n",
        "int_to_string = str(var_a)\n",
        "print('int_to_string : '+int_to_string,type(int_to_string))\n",
        "float_to_string = str(var_c)\n",
        "print('float_to_string : '+float_to_string,type(float_to_string))\n",
        "bool_to_string = str(var_d)\n",
        "print('bool_to_string : '+bool_to_string,type(bool_to_string))"
      ]
    },
    {
      "cell_type": "markdown",
      "metadata": {
        "id": "7VPVah7p38m8"
      },
      "source": [
        "## 5. Strings"
      ]
    },
    {
      "cell_type": "markdown",
      "metadata": {
        "id": "iLc4YSEE38m8"
      },
      "source": [
        "- ### Multiline Strings"
      ]
    },
    {
      "cell_type": "code",
      "execution_count": 39,
      "metadata": {
        "colab": {
          "base_uri": "https://localhost:8080/"
        },
        "id": "4QTx770g38m8",
        "outputId": "55cde818-738b-442d-d26a-93b709f7e287"
      },
      "outputs": [
        {
          "output_type": "stream",
          "name": "stdout",
          "text": [
            "this is a string paragraph,\n",
            "this is line number 2,\n",
            "and including the 3rd line as well,\n",
            "includes some spl characters !@#_\n",
            "four\n",
            "f o\n",
            "_\n"
          ]
        }
      ],
      "source": [
        "multiline ='''this is a string paragraph,\n",
        "this is line number 2,\n",
        "and including the 3rd line as well,\n",
        "includes some spl characters !@#_'''\n",
        "print(multiline)\n",
        "four_letters =\"four\"\n",
        "print(four_letters)"
      ]
    },
    {
      "cell_type": "markdown",
      "metadata": {
        "id": "mYS4ZAvP38m8"
      },
      "source": [
        "- ### String Indexing"
      ]
    },
    {
      "cell_type": "code",
      "execution_count": 40,
      "metadata": {
        "colab": {
          "base_uri": "https://localhost:8080/"
        },
        "id": "odJ04nVx38m8",
        "outputId": "c4682776-747d-4fec-8798-4cfc7205d6f0"
      },
      "outputs": [
        {
          "output_type": "stream",
          "name": "stdout",
          "text": [
            "t s i\n",
            "f o u r\n",
            "f o\n",
            "_\n"
          ]
        }
      ],
      "source": [
        "print(multiline[0],multiline[3],multiline[5])\n",
        "print(four_letters[0],four_letters[1],four_letters[2],four_letters[3])\n",
        "# negative intexing , last is -1\n",
        "#  f  o  u  r\n",
        "#  0  1  2  3\n",
        "# -4 -3 -2 -1\n",
        "print(four_letters[-4],four_letters[-3])\n",
        "print(multiline[-1])"
      ]
    },
    {
      "cell_type": "markdown",
      "metadata": {
        "id": "ahHbpLJn38m8"
      },
      "source": [
        "- ### String functions `len(), lower(), strip(), replace()`"
      ]
    },
    {
      "cell_type": "code",
      "execution_count": 50,
      "metadata": {
        "colab": {
          "base_uri": "https://localhost:8080/"
        },
        "id": "Gka4nv9338m9",
        "outputId": "4a4ad49a-a00d-4004-89db-e5ee8a7ef92e"
      },
      "outputs": [
        {
          "output_type": "stream",
          "name": "stdout",
          "text": [
            "this is a string paragraph,\n",
            "this is line number 2,\n",
            "and including the 3rd line as well,\n",
            "includes some spl characters !@#_\n",
            "len_of_string is : 120\n",
            "THIS IS A STRING PARAGRAPH,\n",
            "THIS IS LINE NUMBER 2,\n",
            "AND INCLUDING THE 3RD LINE AS WELL,\n",
            "INCLUDES SOME SPL CHARACTERS !@#_\n",
            "this is a string paragraph,\n",
            "this is line number 2,\n",
            "and including the 3rd line as well,\n",
            "includes some spl characters !@#_\n",
            "    stars     \n",
            "stars\n",
            "four IS A STRING PARAGRAPH,\n",
            "four IS LINE NUMBER 2,\n",
            "AND INCLUDING THE 3RD LINE AS WELL,\n",
            "INCLUDES SOME SPL CHARACTERS !@#_\n"
          ]
        }
      ],
      "source": [
        "print(multiline)\n",
        "len_of_string = len(multiline)\n",
        "print('len_of_string is : '+str(len_of_string))\n",
        "upper_multiline = multiline.upper()\n",
        "print(upper_multiline)\n",
        "print(upper_multiline.lower())\n",
        "space = \"    stars     \"\n",
        "print(space)\n",
        "print(space.strip())\n",
        "# print(upper_multiline.strip('I'))\n",
        "relace_upper_string = upper_multiline.replace(\"THIS\",four_letters)\n",
        "print(relace_upper_string)"
      ]
    },
    {
      "cell_type": "markdown",
      "metadata": {
        "id": "5KK5SYej38m9"
      },
      "source": [
        "- ### String Slicing"
      ]
    },
    {
      "cell_type": "code",
      "execution_count": 56,
      "metadata": {
        "colab": {
          "base_uri": "https://localhost:8080/"
        },
        "id": "K6AcGj7K38m9",
        "outputId": "955b5b69-3b30-484b-d462-31356a74562c"
      },
      "outputs": [
        {
          "output_type": "stream",
          "name": "stdout",
          "text": [
            "this is a string paragraph,\n",
            "this is line number 2,\n",
            "and including the 3rd line as well,\n",
            "includes some spl characters !@#_\n",
            "\n",
            "\n",
            "s is a strin\n",
            "\n",
            "\n",
            "this \n",
            "\n",
            "\n",
            "this i\n",
            "\n",
            "\n",
            "is a string paragraph,\n",
            "this is line number 2,\n",
            "and including the 3rd line as well,\n",
            "includes some spl characters !@#_\n",
            "\n",
            "\n",
            " a string paragraph,\n",
            "this is line number 2,\n",
            "and including the 3rd line as well,\n",
            "includes some spl characters !@#_\n",
            "\n",
            "\n",
            "!@#_\n",
            "\n",
            "\n",
            "!@#\n",
            "\n",
            "\n",
            "is a string paragraph,\n",
            "this is line number 2,\n",
            "and including the 3rd line as well,\n",
            "includes some spl \n"
          ]
        }
      ],
      "source": [
        "print(multiline)\n",
        "# [start_index:end_index] - [inclusive: exclusive]\n",
        "print('\\n')\n",
        "print(multiline[3:15])\n",
        "print('\\n')\n",
        "print(multiline[:5])\n",
        "print('\\n')\n",
        "print(multiline[:6])\n",
        "print('\\n')\n",
        "print(multiline[5:])\n",
        "print('\\n')\n",
        "print(multiline[7:])\n",
        "print('\\n')\n",
        "print(multiline[-4:])\n",
        "print('\\n')\n",
        "print(multiline[-4:-1])\n",
        "print('\\n')\n",
        "print(multiline[5:-15])"
      ]
    },
    {
      "cell_type": "markdown",
      "metadata": {
        "id": "5jEkY8rY38m9"
      },
      "source": [
        "- ### String Concatenation"
      ]
    },
    {
      "cell_type": "code",
      "execution_count": 59,
      "metadata": {
        "colab": {
          "base_uri": "https://localhost:8080/"
        },
        "id": "RaS9uktf38m9",
        "outputId": "96d10d95-089a-4281-bd6d-e8b4d3e160fd"
      },
      "outputs": [
        {
          "output_type": "stream",
          "name": "stdout",
          "text": [
            "this is a string paragraph,\n",
            "this is line number 2,\n",
            "and including the 3rd line as well,\n",
            "includes some spl characters !@#_ THIS IS A STRING PARAGRAPH,\n",
            "THIS IS LINE NUMBER 2,\n",
            "AND INCLUDING THE 3RD LINE AS WELL,\n",
            "INCLUDES SOME SPL CHARACTERS !@#_\n",
            "this is a string paragraph,\n",
            "this is line number 2,\n",
            "and including the 3rd line as well,\n",
            "includes some spl characters !@#_this is a string paragraph,\n",
            "this is line number 2,\n",
            "and including the 3rd line as well,\n",
            "includes some spl characters !@#_this is a string paragraph,\n",
            "this is line number 2,\n",
            "and including the 3rd line as well,\n",
            "includes some spl characters !@#_\n"
          ]
        }
      ],
      "source": [
        "concact_string = multiline +\" \"+ upper_multiline\n",
        "print(concact_string)\n",
        "repetation_3_times = multiline * 3\n",
        "print(repetation_3_times)"
      ]
    },
    {
      "cell_type": "markdown",
      "metadata": {
        "id": "h2PKNfRz38m9"
      },
      "source": [
        "## 6. Comparison , Identity, Membership Operators\n",
        "`>=, ==, =<, in, not in, is, is not`"
      ]
    },
    {
      "cell_type": "code",
      "execution_count": 78,
      "metadata": {
        "colab": {
          "base_uri": "https://localhost:8080/"
        },
        "id": "6iF1VKfD38m9",
        "outputId": "43fd46c3-f63f-409f-aedd-7f07c95a9a6d"
      },
      "outputs": [
        {
          "output_type": "stream",
          "name": "stdout",
          "text": [
            "True\n",
            "True\n",
            "False\n",
            "True\n",
            "True\n",
            "\n",
            "\n",
            "True\n",
            "True\n",
            "False\n",
            "True\n",
            "True\n",
            "\n",
            "\n",
            "indentity operators!\n",
            "True\n",
            "False\n",
            "True\n",
            "True\n",
            "False\n",
            "result : True\n",
            "result : False\n",
            "False\n"
          ]
        }
      ],
      "source": [
        "# try using > < >= <= ==\n",
        "# integers and float\n",
        "print(4>1)\n",
        "print(3<4)\n",
        "print(0 == 1)\n",
        "print(3 >= 3)\n",
        "print(2 <= 4)\n",
        "print('\\n')\n",
        "print(4.2>1.2)\n",
        "print(3.1<4.5)\n",
        "print(0.4 == 1.5)\n",
        "print(3.7 >= 3.2)\n",
        "print(2.3 <= 4.2)\n",
        "print('\\n')\n",
        "print('indentity operators!')\n",
        "iden_1 = 1\n",
        "iden_2 = 1\n",
        "print(iden_1 is iden_2)\n",
        "iden_1 = 1\n",
        "iden_2 = 4\n",
        "print(iden_1 is iden_2)\n",
        "print(multiline is multiline)\n",
        "print(multiline is not upper_multiline)\n",
        "print(multiline == upper_multiline)\n",
        "print(\"result : \"+ str(multiline == upper_multiline.lower()))\n",
        "print(\"result : \"+ str(multiline is upper_multiline.lower()))\n",
        "iden_str1 = \"abc\"\n",
        "iden_str2 = \"abc\"\n",
        "print(iden_str1 is iden_str2)\n",
        "iden_str1 = \"abc\"\n",
        "iden_str2 = \"ABC\"\n",
        "print(iden_str1 is iden_str2.lower())"
      ]
    },
    {
      "cell_type": "markdown",
      "metadata": {
        "id": "JCMbwCO738m9"
      },
      "source": [
        "\n",
        "## 7. Arithmetic and Assignment Operators"
      ]
    },
    {
      "cell_type": "code",
      "execution_count": 105,
      "metadata": {
        "colab": {
          "base_uri": "https://localhost:8080/"
        },
        "id": "gqP051vf38m9",
        "outputId": "3a7eff52-c727-4929-e855-f7a9c240bd3d"
      },
      "outputs": [
        {
          "output_type": "stream",
          "name": "stdout",
          "text": [
            "3\n",
            "4\n",
            "2\n",
            "2.0\n",
            "18\n",
            "216\n",
            "2\n",
            "1.3333333333333335\n",
            "chiranthc\n",
            "chiranthchiranth\n"
          ]
        }
      ],
      "source": [
        "# + - * / ** %\n",
        "# exercise\n",
        "print(number_first + NUMBER_FIRST)\n",
        "print(2+2)\n",
        "print(4-2)\n",
        "print(4/2)\n",
        "print(6*3)\n",
        "print(6**3)\n",
        "print(8%3)\n",
        "# assignment operators on numbers\n",
        "var = 1\n",
        "var += 2\n",
        "var *= 4\n",
        "var -= 2\n",
        "var /= 3\n",
        "var %= 2\n",
        "print(var)\n",
        "\n",
        "# assignment operators on strings + , *\n",
        "string_val = \"chiranth\"\n",
        "string_val += \"c\"\n",
        "print(string_val)\n",
        "string_val = \"chiranth\"\n",
        "string_val *= 2\n",
        "print(string_val)"
      ]
    },
    {
      "cell_type": "markdown",
      "metadata": {
        "id": "xw876PFP38m9"
      },
      "source": [
        "## 8. Lists\n",
        "- ### Assignment"
      ]
    },
    {
      "cell_type": "code",
      "execution_count": 89,
      "metadata": {
        "colab": {
          "base_uri": "https://localhost:8080/"
        },
        "id": "iv976JSI38m9",
        "outputId": "20b46f34-1f6a-4e60-8cbd-66f306b0fed5"
      },
      "outputs": [
        {
          "output_type": "stream",
          "name": "stdout",
          "text": [
            "[0, 2, 3, 4, 5, 6, 7, 8, 9, 10]\n",
            "[1, 'python', False, 3.14]\n",
            "['this', 'is', 'a', 'string', 'paragraph,', 'this', 'is', 'line', 'number', '2,', 'and', 'including', 'the', '3rd', 'line', 'as', 'well,', 'includes', 'some', 'spl', 'characters', '!@#_']\n",
            "[0, 1, 2, 3, 4, 5, 6, 7, 8, 9, 10, 11, 12, 13, 14, 15, 16, 17, 18, 19, 20, 21, 22, 23, 24, 25, 26, 27, 28, 29, 30, 31, 32, 33, 34, 35, 36, 37, 38, 39, 40, 41, 42, 43, 44, 45, 46, 47, 48, 49, 50, 51, 52, 53, 54, 55, 56, 57, 58, 59, 60, 61, 62, 63, 64, 65, 66, 67, 68, 69, 70, 71, 72, 73, 74, 75, 76, 77, 78, 79, 80, 81, 82, 83, 84, 85, 86, 87, 88, 89, 90, 91, 92, 93, 94, 95, 96, 97, 98, 99]\n",
            "[25, 26, 27, 28, 29, 30, 31, 32, 33, 34, 35, 36, 37, 38, 39, 40, 41, 42, 43, 44, 45, 46, 47, 48, 49]\n"
          ]
        }
      ],
      "source": [
        "single_digits = [0,2,3,4,5,6,7,8,9,10]\n",
        "print(single_digits)\n",
        "hetero_data = [1,\"python\" , False , 3.14]\n",
        "print(hetero_data)\n",
        "multi_list = multiline.split()\n",
        "print(multi_list)\n",
        "# range(stop) 0 to stop exludes stop\n",
        "# range(start , stop) start to stop\n",
        "integers = list(range(100))\n",
        "print(integers)\n",
        "tf_fif = list(range(25,50))\n",
        "print(tf_fif)"
      ]
    },
    {
      "cell_type": "markdown",
      "metadata": {
        "id": "a0-dnqsR38m9"
      },
      "source": [
        "- ### List Index and Slicing"
      ]
    },
    {
      "cell_type": "code",
      "execution_count": 91,
      "metadata": {
        "colab": {
          "base_uri": "https://localhost:8080/"
        },
        "id": "gVtMAyvW38m9",
        "outputId": "dadbadd3-aa01-4e67-aeca-d8fa25ce5d08"
      },
      "outputs": [
        {
          "output_type": "stream",
          "name": "stdout",
          "text": [
            "1\n",
            "3.14\n",
            "['string', 'paragraph,', 'this', 'is', 'line', 'number', '2,', 'and', 'including', 'the', '3rd', 'line', 'as', 'well,', 'includes', 'some', 'spl', 'characters', '!@#_']\n",
            "['string', 'paragraph,', 'this', 'is', 'line', 'number', '2,', 'and', 'including', 'the', '3rd', 'line', 'as', 'well,', 'includes', 'some']\n"
          ]
        }
      ],
      "source": [
        "# intex starts from 0\n",
        "print(hetero_data[0])\n",
        "print(hetero_data[-1])\n",
        "\n",
        "# slicing\n",
        "print(multi_list[3:])\n",
        "print(multi_list[3:-3])"
      ]
    },
    {
      "cell_type": "markdown",
      "metadata": {
        "id": "k5_mAJvP38m-"
      },
      "source": [
        "- ### List functions `insert(), append(), extend(). remove(), sort()`\n"
      ]
    },
    {
      "cell_type": "code",
      "execution_count": 101,
      "metadata": {
        "colab": {
          "base_uri": "https://localhost:8080/"
        },
        "id": "EHQZtVWp38m-",
        "outputId": "8aa3c97d-37ff-456f-bb9a-ea042274883b"
      },
      "outputs": [
        {
          "output_type": "stream",
          "name": "stdout",
          "text": [
            "41\n",
            "['New Added Value', 'New Added Value', 'New Added Value', 'New Added Value', 'New Added Value', 'New Added Value', 'New Added Value', 'New Added Value', 'New Added Value', 'New Added Value', 'this', 'is', 'a', 'string', 'paragraph,', 'this', 'is', 'line', 'number', '2,', 'and', 'including', 'the', '3rd', 'New Added Value', 'New Added Value', 'New Added Value', 'New Added Value', 'New Added Value', 'New Added Value', 'New Added Value', 'line', 'New Added Value', 'as', 'well,', 'includes', 'some', 'spl', 'Chiranth', 'Chiranth', 'characters', '!@#_']\n",
            "42\n",
            "['New Added Value', 'New Added Value', 'New Added Value', 'New Added Value', 'New Added Value', 'New Added Value', 'New Added Value', 'New Added Value', 'New Added Value', 'New Added Value', 'this', 'is', 'a', 'string', 'paragraph,', 'this', 'is', 'line', 'number', '2,', 'and', 'including', 'the', '3rd', 'New Added Value', 'New Added Value', 'New Added Value', 'New Added Value', 'New Added Value', 'New Added Value', 'New Added Value', 'line', 'New Added Value', 'as', 'New Added Value', 'well,', 'includes', 'some', 'spl', 'Chiranth', 'Chiranth', 'characters', '!@#_']\n",
            "43\n",
            "['New Added Value', 'New Added Value', 'New Added Value', 'New Added Value', 'New Added Value', 'New Added Value', 'New Added Value', 'New Added Value', 'New Added Value', 'New Added Value', 'this', 'is', 'a', 'string', 'paragraph,', 'this', 'is', 'line', 'number', '2,', 'and', 'including', 'the', '3rd', 'New Added Value', 'New Added Value', 'New Added Value', 'New Added Value', 'New Added Value', 'New Added Value', 'New Added Value', 'line', 'New Added Value', 'as', 'New Added Value', 'well,', 'includes', 'some', 'spl', 'Chiranth', 'Chiranth', 'Chiranth', 'characters', '!@#_']\n",
            "44\n"
          ]
        }
      ],
      "source": [
        "print(len(multi_list))\n",
        "multi_list.insert(0, \"New Added Value\") # returns None , updates original list\n",
        "print(multi_list)\n",
        "print(len(multi_list))\n",
        "multi_list.insert(-8, \"New Added Value\") # returns None , updates original list\n",
        "print(multi_list)\n",
        "print(len(multi_list))\n",
        "multi_list.insert(-2, 'Chiranth') # returns None , updates original list\n",
        "print(multi_list)\n",
        "print(len(multi_list))"
      ]
    },
    {
      "cell_type": "code",
      "source": [
        "print(len(multi_list))\n",
        "hetero_data[0] += 1\n",
        "hetero_data[1] *= 2\n",
        "hetero_data[2] = True\n",
        "hetero_data[3] = list(range(3))\n",
        "print(hetero_data)"
      ],
      "metadata": {
        "colab": {
          "base_uri": "https://localhost:8080/"
        },
        "id": "KJikVsEYT7T8",
        "outputId": "cac40d5f-2b37-45b7-c7a9-572494d0658f"
      },
      "execution_count": 103,
      "outputs": [
        {
          "output_type": "stream",
          "name": "stdout",
          "text": [
            "44\n",
            "[2, 'pythonpython', True, [0, 1, 2]]\n"
          ]
        }
      ]
    },
    {
      "cell_type": "code",
      "source": [
        "hetero_data.append(\"2\")\n",
        "print(hetero_data)"
      ],
      "metadata": {
        "colab": {
          "base_uri": "https://localhost:8080/"
        },
        "id": "MhihCygiVND8",
        "outputId": "6c76729e-55fd-42d3-c800-e0fd254144b7"
      },
      "execution_count": 106,
      "outputs": [
        {
          "output_type": "stream",
          "name": "stdout",
          "text": [
            "[2, 'pythonpython', True, [0, 1, 2], '2']\n"
          ]
        }
      ]
    },
    {
      "cell_type": "code",
      "source": [
        "hetero_data.append([1,2,3])\n",
        "print(hetero_data)"
      ],
      "metadata": {
        "colab": {
          "base_uri": "https://localhost:8080/"
        },
        "id": "TDNPjFCmVWjj",
        "outputId": "6926309f-4233-42be-c35b-9c326836d5ca"
      },
      "execution_count": 107,
      "outputs": [
        {
          "output_type": "stream",
          "name": "stdout",
          "text": [
            "[2, 'pythonpython', True, [0, 1, 2], '2', [1, 2, 3]]\n"
          ]
        }
      ]
    },
    {
      "cell_type": "code",
      "source": [
        "hetero_data.extend([1,2,3])\n",
        "print(hetero_data)"
      ],
      "metadata": {
        "colab": {
          "base_uri": "https://localhost:8080/"
        },
        "id": "tC5FPZOFVolR",
        "outputId": "f889390b-b92f-4cad-ca59-b31875e76341"
      },
      "execution_count": 110,
      "outputs": [
        {
          "output_type": "stream",
          "name": "stdout",
          "text": [
            "[2, 'pythonpython', True, [0, 1, 2], '2', [1, 2, 3], 1, 2, 3, 1, 2, 3]\n"
          ]
        }
      ]
    },
    {
      "cell_type": "code",
      "source": [
        "# remove for the occurance\n",
        "hetero_data.remove(2)\n",
        "print(hetero_data)\n",
        "hetero_data.remove(2)\n",
        "print(hetero_data)"
      ],
      "metadata": {
        "colab": {
          "base_uri": "https://localhost:8080/"
        },
        "id": "lmCwCqLqV5Zq",
        "outputId": "94a6f33a-4f88-486f-d54f-fcb20fdc771b"
      },
      "execution_count": 114,
      "outputs": [
        {
          "output_type": "stream",
          "name": "stdout",
          "text": [
            "['pythonpython', True, '2', 1, 2, 3, 1, 2, 3]\n",
            "['pythonpython', True, '2', 1, 3, 1, 2, 3]\n"
          ]
        }
      ]
    },
    {
      "cell_type": "code",
      "source": [
        "random_numbers = [1,5,3,1,2,-10,20,99]\n",
        "random_numbers.sort()\n",
        "print(random_numbers)\n",
        "random_numbers.sort(reverse=True)\n",
        "print(random_numbers)"
      ],
      "metadata": {
        "colab": {
          "base_uri": "https://localhost:8080/"
        },
        "id": "abBeK7b5WZq4",
        "outputId": "8c33e567-1a55-4d52-ab80-5d1101deb35f"
      },
      "execution_count": 116,
      "outputs": [
        {
          "output_type": "stream",
          "name": "stdout",
          "text": [
            "[-10, 1, 1, 2, 3, 5, 20, 99]\n",
            "[99, 20, 5, 3, 2, 1, 1, -10]\n"
          ]
        }
      ]
    },
    {
      "cell_type": "code",
      "source": [
        "multi_list.sort()\n",
        "print(multi_list)\n",
        "multi_list.sort(reverse=True)\n",
        "print(multi_list)\n",
        "case_list = ['a','Z','b','Z','1','&']\n",
        "print(case_list)\n",
        "case_list.sort()\n",
        "print(case_list)\n",
        "case_list.sort(reverse=True)\n",
        "print(case_list)"
      ],
      "metadata": {
        "colab": {
          "base_uri": "https://localhost:8080/"
        },
        "id": "3sMoRF9LW3A3",
        "outputId": "ff89ee34-e5e6-4cc3-9a14-a86a77a1aaac"
      },
      "execution_count": 124,
      "outputs": [
        {
          "output_type": "stream",
          "name": "stdout",
          "text": [
            "['!@#_', '2,', '3rd', 'Chiranth', 'Chiranth', 'Chiranth', 'New Added Value', 'New Added Value', 'New Added Value', 'New Added Value', 'New Added Value', 'New Added Value', 'New Added Value', 'New Added Value', 'New Added Value', 'New Added Value', 'New Added Value', 'New Added Value', 'New Added Value', 'New Added Value', 'New Added Value', 'New Added Value', 'New Added Value', 'New Added Value', 'New Added Value', 'a', 'and', 'as', 'characters', 'includes', 'including', 'is', 'is', 'line', 'line', 'number', 'paragraph,', 'some', 'spl', 'string', 'the', 'this', 'this', 'well,']\n",
            "['well,', 'this', 'this', 'the', 'string', 'spl', 'some', 'paragraph,', 'number', 'line', 'line', 'is', 'is', 'including', 'includes', 'characters', 'as', 'and', 'a', 'New Added Value', 'New Added Value', 'New Added Value', 'New Added Value', 'New Added Value', 'New Added Value', 'New Added Value', 'New Added Value', 'New Added Value', 'New Added Value', 'New Added Value', 'New Added Value', 'New Added Value', 'New Added Value', 'New Added Value', 'New Added Value', 'New Added Value', 'New Added Value', 'New Added Value', 'Chiranth', 'Chiranth', 'Chiranth', '3rd', '2,', '!@#_']\n",
            "['a', 'Z', 'b', 'Z', '1', '&']\n",
            "['&', '1', 'Z', 'Z', 'a', 'b']\n",
            "['b', 'a', 'Z', 'Z', '1', '&']\n"
          ]
        }
      ]
    },
    {
      "cell_type": "markdown",
      "metadata": {
        "id": "tZGKhFBK38m-"
      },
      "source": [
        "- ### Copying a list with `copy()`"
      ]
    },
    {
      "cell_type": "code",
      "execution_count": null,
      "metadata": {
        "id": "fTeirmmE38m-"
      },
      "outputs": [],
      "source": []
    },
    {
      "cell_type": "markdown",
      "metadata": {
        "id": "99EPAxtk38m-"
      },
      "source": [
        "## 9. Tuples\n",
        "- ### Assignment and Unpacking"
      ]
    },
    {
      "cell_type": "code",
      "execution_count": null,
      "metadata": {
        "id": "Sz29vmMm38m-"
      },
      "outputs": [],
      "source": []
    },
    {
      "cell_type": "code",
      "execution_count": null,
      "metadata": {
        "id": "biTCbwce38m-"
      },
      "outputs": [],
      "source": []
    },
    {
      "cell_type": "markdown",
      "metadata": {
        "id": "9E0HjaE_38m-"
      },
      "source": [
        "## 10. Control Flow\n",
        "- ### IF"
      ]
    },
    {
      "cell_type": "code",
      "execution_count": null,
      "metadata": {
        "id": "N2ZnG7Dg38m-"
      },
      "outputs": [],
      "source": []
    },
    {
      "cell_type": "markdown",
      "metadata": {
        "id": "WoF3sTsZ38m-"
      },
      "source": [
        "- ### ELSE"
      ]
    },
    {
      "cell_type": "code",
      "execution_count": null,
      "metadata": {
        "id": "UNwD5RD_38m-"
      },
      "outputs": [],
      "source": []
    },
    {
      "cell_type": "markdown",
      "metadata": {
        "id": "odSJOf3838m-"
      },
      "source": [
        "- ### ELIF"
      ]
    },
    {
      "cell_type": "code",
      "execution_count": null,
      "metadata": {
        "id": "MYuZgm4238m_"
      },
      "outputs": [],
      "source": []
    },
    {
      "cell_type": "markdown",
      "metadata": {
        "id": "il7Ocsxb38m_"
      },
      "source": [
        "- ### Shorthand If Else"
      ]
    },
    {
      "cell_type": "code",
      "execution_count": null,
      "metadata": {
        "id": "7CG0_GnQ38m_"
      },
      "outputs": [],
      "source": []
    },
    {
      "cell_type": "markdown",
      "metadata": {
        "id": "vjSuiEnc38m_"
      },
      "source": [
        "## 11. Loops\n",
        "- ### FOR loop"
      ]
    },
    {
      "cell_type": "code",
      "execution_count": null,
      "metadata": {
        "id": "kG-m3uUt38m_"
      },
      "outputs": [],
      "source": []
    },
    {
      "cell_type": "markdown",
      "metadata": {
        "id": "zlnbHZBG38m_"
      },
      "source": [
        "- ### WHILE loop"
      ]
    },
    {
      "cell_type": "code",
      "execution_count": null,
      "metadata": {
        "id": "nkxRWOZl38m_"
      },
      "outputs": [],
      "source": []
    },
    {
      "cell_type": "markdown",
      "metadata": {
        "id": "Lgjh6DA138m_"
      },
      "source": [
        "# Upcoming class\n",
        "- ## List Comprehension\n",
        "- ## Functions\n",
        "- ## Lambda Functions\n",
        "- ## OOPs concepts"
      ]
    }
  ],
  "metadata": {
    "kernelspec": {
      "display_name": "base",
      "language": "python",
      "name": "python3"
    },
    "language_info": {
      "name": "python",
      "version": "3.9.7"
    },
    "orig_nbformat": 4,
    "colab": {
      "provenance": [],
      "include_colab_link": true
    }
  },
  "nbformat": 4,
  "nbformat_minor": 0
}