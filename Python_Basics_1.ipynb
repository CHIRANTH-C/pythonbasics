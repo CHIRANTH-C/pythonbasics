{
  "cells": [
    {
      "cell_type": "markdown",
      "metadata": {
        "id": "view-in-github",
        "colab_type": "text"
      },
      "source": [
        "<a href=\"https://colab.research.google.com/github/CHIRANTH-C/pythonbasics/blob/main/Python_Basics_1.ipynb\" target=\"_parent\"><img src=\"https://colab.research.google.com/assets/colab-badge.svg\" alt=\"Open In Colab\"/></a>"
      ]
    },
    {
      "cell_type": "markdown",
      "metadata": {
        "id": "RrG5SPyQ38m3"
      },
      "source": [
        "# Python Basics\n",
        "## Guiding Principle of Python's Design"
      ]
    },
    {
      "cell_type": "code",
      "execution_count": 28,
      "metadata": {
        "colab": {
          "base_uri": "https://localhost:8080/"
        },
        "id": "1Epdo33E38m5",
        "outputId": "4eefb656-5474-4f84-e8f1-e8a7464240b0"
      },
      "outputs": [
        {
          "output_type": "stream",
          "name": "stdout",
          "text": [
            "The Zen of Python, by Tim Peters\n",
            "\n",
            "Beautiful is better than ugly.\n",
            "Explicit is better than implicit.\n",
            "Simple is better than complex.\n",
            "Complex is better than complicated.\n",
            "Flat is better than nested.\n",
            "Sparse is better than dense.\n",
            "Readability counts.\n",
            "Special cases aren't special enough to break the rules.\n",
            "Although practicality beats purity.\n",
            "Errors should never pass silently.\n",
            "Unless explicitly silenced.\n",
            "In the face of ambiguity, refuse the temptation to guess.\n",
            "There should be one-- and preferably only one --obvious way to do it.\n",
            "Although that way may not be obvious at first unless you're Dutch.\n",
            "Now is better than never.\n",
            "Although never is often better than *right* now.\n",
            "If the implementation is hard to explain, it's a bad idea.\n",
            "If the implementation is easy to explain, it may be a good idea.\n",
            "Namespaces are one honking great idea -- let's do more of those!\n"
          ]
        }
      ],
      "source": [
        "import this"
      ]
    },
    {
      "cell_type": "markdown",
      "metadata": {
        "id": "NgOSW9PF38m6"
      },
      "source": [
        "## 1. Variable Assignment and Basic Data Types\n",
        "Variable naming rules: \n",
        "1. Variable names are case sensitive\n",
        "2. Variable must start with a character or underscore\n",
        "3. Variable names can only contain alphanumeric characters and underscores\n",
        "4. Variable name cannot be a python keyword\n",
        "\n",
        "- ### Integers"
      ]
    },
    {
      "cell_type": "code",
      "execution_count": 29,
      "metadata": {
        "colab": {
          "base_uri": "https://localhost:8080/"
        },
        "id": "6jvHl7uR38m6",
        "outputId": "7249e2c8-c6c3-4834-a3a1-1e60d8ad281d"
      },
      "outputs": [
        {
          "output_type": "stream",
          "name": "stdout",
          "text": [
            "1\n",
            "2\n",
            "3\n",
            "4\n"
          ]
        }
      ],
      "source": [
        "number_first = 1\n",
        "NUMBER_FIRST = 2\n",
        "_num = 3\n",
        "num_2 = 4\n",
        "print(number_first)\n",
        "print(NUMBER_FIRST)\n",
        "print(_num)\n",
        "print(num_2)"
      ]
    },
    {
      "cell_type": "markdown",
      "metadata": {
        "id": "YhEz5rMz38m6"
      },
      "source": [
        "- ### Strings"
      ]
    },
    {
      "cell_type": "code",
      "execution_count": 30,
      "metadata": {
        "colab": {
          "base_uri": "https://localhost:8080/"
        },
        "id": "QFYB3DCr38m7",
        "outputId": "e67a7edb-0cd0-4cc2-bcbb-d471d69f3af4"
      },
      "outputs": [
        {
          "output_type": "stream",
          "name": "stdout",
          "text": [
            "Hello, world!\n",
            "First python class\n",
            "num12345\n",
            "a\n"
          ]
        }
      ],
      "source": [
        "name = \"Hello, world!\"\n",
        "single_string = \"First python class\"\n",
        "print(name)\n",
        "print(single_string)\n",
        "alphanumeric = 'num12345'\n",
        "single_char = 'a'\n",
        "print(alphanumeric)\n",
        "print(single_char)"
      ]
    },
    {
      "cell_type": "markdown",
      "metadata": {
        "id": "Nm0OI2k938m7"
      },
      "source": [
        "- ### Float"
      ]
    },
    {
      "cell_type": "code",
      "execution_count": 31,
      "metadata": {
        "colab": {
          "base_uri": "https://localhost:8080/"
        },
        "id": "5lazJAXi38m7",
        "outputId": "1d0a0a8a-c84e-4dbd-8736-22248c84e9bb"
      },
      "outputs": [
        {
          "output_type": "stream",
          "name": "stdout",
          "text": [
            "3.1415\n",
            "0.5\n"
          ]
        }
      ],
      "source": [
        "pie = 3.1415\n",
        "division = 1/2\n",
        "print(pie)\n",
        "print(division)"
      ]
    },
    {
      "cell_type": "markdown",
      "metadata": {
        "id": "yDncztO138m7"
      },
      "source": [
        "- ### Booleans"
      ]
    },
    {
      "cell_type": "code",
      "execution_count": 32,
      "metadata": {
        "colab": {
          "base_uri": "https://localhost:8080/"
        },
        "id": "UO7FJj-t38m7",
        "outputId": "b3c0f7f4-6032-49dd-a62d-1eefe09d5590"
      },
      "outputs": [
        {
          "output_type": "stream",
          "name": "stdout",
          "text": [
            "False\n",
            "True\n",
            "False\n",
            "True\n"
          ]
        },
        {
          "output_type": "execute_result",
          "data": {
            "text/plain": [
              "True"
            ]
          },
          "metadata": {},
          "execution_count": 32
        }
      ],
      "source": [
        "bool_1 = True\n",
        "bool_2 = False\n",
        "a = 0\n",
        "bool_a = bool(a)\n",
        "print(bool_a)\n",
        "b = 1\n",
        "bool_b = bool(b)\n",
        "print(bool_b)\n",
        "bool_string = \"\"\n",
        "print(bool(bool_string))\n",
        "bool_eg = \"Python\"\n",
        "print(bool(bool_eg))\n",
        "num_float = 3.0\n",
        "bool(num_float)"
      ]
    },
    {
      "cell_type": "markdown",
      "metadata": {
        "id": "-VQodImf38m7"
      },
      "source": [
        "- ### Multiline Assignment"
      ]
    },
    {
      "cell_type": "code",
      "execution_count": 33,
      "metadata": {
        "colab": {
          "base_uri": "https://localhost:8080/"
        },
        "id": "nf1hHmEz38m7",
        "outputId": "307ff194-878d-4e56-dac0-dada31aad250"
      },
      "outputs": [
        {
          "output_type": "stream",
          "name": "stdout",
          "text": [
            "1 2 3 Happy Day!\n",
            "1 this! 3.0 False\n"
          ]
        }
      ],
      "source": [
        "num_1 , num_2 , num_3 , Var_4 = 1 , 2 , 3 , \"Happy Day!\"\n",
        "print(num_1,num_2,num_3,Var_4)\n",
        "var_a , var_b , var_c , var_d = 1 , \"this!\" , 3.0 , False\n",
        "print(var_a,var_b,var_c,var_d)"
      ]
    },
    {
      "cell_type": "markdown",
      "metadata": {
        "id": "PJnnn3wz38m7"
      },
      "source": [
        "## 2. Comments"
      ]
    },
    {
      "cell_type": "code",
      "execution_count": 34,
      "metadata": {
        "colab": {
          "base_uri": "https://localhost:8080/"
        },
        "id": "yilx3Hu838m8",
        "outputId": "d149c255-9455-4246-9bd7-33d10082236a"
      },
      "outputs": [
        {
          "output_type": "stream",
          "name": "stdout",
          "text": [
            "50\n"
          ]
        }
      ],
      "source": [
        "# this is an example comment line\n",
        "a = 50\n",
        "# a = 30\n",
        "# a = 60\n",
        "print(a)"
      ]
    },
    {
      "cell_type": "markdown",
      "metadata": {
        "id": "q8tD_Tjl38m8"
      },
      "source": [
        "## 3. Python `type()` function"
      ]
    },
    {
      "cell_type": "code",
      "execution_count": 35,
      "metadata": {
        "colab": {
          "base_uri": "https://localhost:8080/"
        },
        "id": "OC-CDiOU38m8",
        "outputId": "d5589a69-a272-4968-aff4-f8e1535d283a"
      },
      "outputs": [
        {
          "output_type": "stream",
          "name": "stdout",
          "text": [
            "1 this! 3.0 False\n",
            "<class 'int'> <class 'str'> <class 'float'> <class 'bool'>\n"
          ]
        }
      ],
      "source": [
        "print(var_a, var_b, var_c , var_d)\n",
        "print(type(var_a), type(var_b), type(var_c) , type(var_d))"
      ]
    },
    {
      "cell_type": "markdown",
      "metadata": {
        "id": "Me7VlKrO38m8"
      },
      "source": [
        "## 4. Type Casting"
      ]
    },
    {
      "cell_type": "code",
      "execution_count": 36,
      "metadata": {
        "colab": {
          "base_uri": "https://localhost:8080/"
        },
        "id": "Zv_u0fqm38m8",
        "outputId": "e07f4c5e-1707-48b2-a1d7-6bfcc556dc2f"
      },
      "outputs": [
        {
          "output_type": "stream",
          "name": "stdout",
          "text": [
            "<class 'int'> <class 'str'> <class 'float'> <class 'bool'>\n",
            "int_to_string : 1 <class 'str'>\n",
            "float_to_string : 3.0 <class 'str'>\n",
            "bool_to_string : False <class 'str'>\n"
          ]
        }
      ],
      "source": [
        "# variables to string\n",
        "print(type(var_a), type(var_b), type(var_c), type(var_d))\n",
        "int_to_string = str(var_a)\n",
        "print('int_to_string : '+int_to_string,type(int_to_string))\n",
        "float_to_string = str(var_c)\n",
        "print('float_to_string : '+float_to_string,type(float_to_string))\n",
        "bool_to_string = str(var_d)\n",
        "print('bool_to_string : '+bool_to_string,type(bool_to_string))"
      ]
    },
    {
      "cell_type": "markdown",
      "metadata": {
        "id": "7VPVah7p38m8"
      },
      "source": [
        "## 5. Strings"
      ]
    },
    {
      "cell_type": "markdown",
      "metadata": {
        "id": "iLc4YSEE38m8"
      },
      "source": [
        "- ### Multiline Strings"
      ]
    },
    {
      "cell_type": "code",
      "execution_count": 37,
      "metadata": {
        "colab": {
          "base_uri": "https://localhost:8080/"
        },
        "id": "4QTx770g38m8",
        "outputId": "07375f58-ff28-4fbb-e77d-ffeade689631"
      },
      "outputs": [
        {
          "output_type": "stream",
          "name": "stdout",
          "text": [
            "this is a string paragraph,\n",
            "this is line number 2,\n",
            "and including the 3rd line as well,\n",
            "includes some spl characters !@#_\n",
            "four\n"
          ]
        }
      ],
      "source": [
        "multiline ='''this is a string paragraph,\n",
        "this is line number 2,\n",
        "and including the 3rd line as well,\n",
        "includes some spl characters !@#_'''\n",
        "print(multiline)\n",
        "four_letters =\"four\"\n",
        "print(four_letters)"
      ]
    },
    {
      "cell_type": "markdown",
      "metadata": {
        "id": "mYS4ZAvP38m8"
      },
      "source": [
        "- ### String Indexing"
      ]
    },
    {
      "cell_type": "code",
      "execution_count": 38,
      "metadata": {
        "colab": {
          "base_uri": "https://localhost:8080/"
        },
        "id": "odJ04nVx38m8",
        "outputId": "c7c4e15b-0448-46e4-f7a9-31f583f89957"
      },
      "outputs": [
        {
          "output_type": "stream",
          "name": "stdout",
          "text": [
            "t s i\n",
            "f o u r\n",
            "f o\n",
            "_\n"
          ]
        }
      ],
      "source": [
        "print(multiline[0],multiline[3],multiline[5])\n",
        "print(four_letters[0],four_letters[1],four_letters[2],four_letters[3])\n",
        "# negative intexing , last is -1\n",
        "#  f  o  u  r\n",
        "#  0  1  2  3\n",
        "# -4 -3 -2 -1\n",
        "print(four_letters[-4],four_letters[-3])\n",
        "print(multiline[-1])"
      ]
    },
    {
      "cell_type": "markdown",
      "metadata": {
        "id": "ahHbpLJn38m8"
      },
      "source": [
        "- ### String functions `len(), lower(), strip(), replace()`"
      ]
    },
    {
      "cell_type": "code",
      "execution_count": 39,
      "metadata": {
        "colab": {
          "base_uri": "https://localhost:8080/"
        },
        "id": "Gka4nv9338m9",
        "outputId": "3a35ecb1-3892-44f2-ff0a-cb2292d6ae15"
      },
      "outputs": [
        {
          "output_type": "stream",
          "name": "stdout",
          "text": [
            "this is a string paragraph,\n",
            "this is line number 2,\n",
            "and including the 3rd line as well,\n",
            "includes some spl characters !@#_\n",
            "len_of_string is : 120\n",
            "THIS IS A STRING PARAGRAPH,\n",
            "THIS IS LINE NUMBER 2,\n",
            "AND INCLUDING THE 3RD LINE AS WELL,\n",
            "INCLUDES SOME SPL CHARACTERS !@#_\n",
            "this is a string paragraph,\n",
            "this is line number 2,\n",
            "and including the 3rd line as well,\n",
            "includes some spl characters !@#_\n",
            "    stars     \n",
            "stars\n",
            "four IS A STRING PARAGRAPH,\n",
            "four IS LINE NUMBER 2,\n",
            "AND INCLUDING THE 3RD LINE AS WELL,\n",
            "INCLUDES SOME SPL CHARACTERS !@#_\n"
          ]
        }
      ],
      "source": [
        "print(multiline)\n",
        "len_of_string = len(multiline)\n",
        "print('len_of_string is : '+str(len_of_string))\n",
        "upper_multiline = multiline.upper()\n",
        "print(upper_multiline)\n",
        "print(upper_multiline.lower())\n",
        "space = \"    stars     \"\n",
        "print(space)\n",
        "print(space.strip())\n",
        "# print(upper_multiline.strip('I'))\n",
        "relace_upper_string = upper_multiline.replace(\"THIS\",four_letters)\n",
        "print(relace_upper_string)"
      ]
    },
    {
      "cell_type": "markdown",
      "metadata": {
        "id": "5KK5SYej38m9"
      },
      "source": [
        "- ### String Slicing"
      ]
    },
    {
      "cell_type": "code",
      "execution_count": 40,
      "metadata": {
        "colab": {
          "base_uri": "https://localhost:8080/"
        },
        "id": "K6AcGj7K38m9",
        "outputId": "a8ddb18a-45ee-44a8-da32-d7aaf5f50fb6"
      },
      "outputs": [
        {
          "output_type": "stream",
          "name": "stdout",
          "text": [
            "this is a string paragraph,\n",
            "this is line number 2,\n",
            "and including the 3rd line as well,\n",
            "includes some spl characters !@#_\n",
            "\n",
            "\n",
            "s is a strin\n",
            "\n",
            "\n",
            "this \n",
            "\n",
            "\n",
            "this i\n",
            "\n",
            "\n",
            "is a string paragraph,\n",
            "this is line number 2,\n",
            "and including the 3rd line as well,\n",
            "includes some spl characters !@#_\n",
            "\n",
            "\n",
            " a string paragraph,\n",
            "this is line number 2,\n",
            "and including the 3rd line as well,\n",
            "includes some spl characters !@#_\n",
            "\n",
            "\n",
            "!@#_\n",
            "\n",
            "\n",
            "!@#\n",
            "\n",
            "\n",
            "is a string paragraph,\n",
            "this is line number 2,\n",
            "and including the 3rd line as well,\n",
            "includes some spl \n"
          ]
        }
      ],
      "source": [
        "print(multiline)\n",
        "# [start_index:end_index] - [inclusive: exclusive]\n",
        "print('\\n')\n",
        "print(multiline[3:15])\n",
        "print('\\n')\n",
        "print(multiline[:5])\n",
        "print('\\n')\n",
        "print(multiline[:6])\n",
        "print('\\n')\n",
        "print(multiline[5:])\n",
        "print('\\n')\n",
        "print(multiline[7:])\n",
        "print('\\n')\n",
        "print(multiline[-4:])\n",
        "print('\\n')\n",
        "print(multiline[-4:-1])\n",
        "print('\\n')\n",
        "print(multiline[5:-15])"
      ]
    },
    {
      "cell_type": "markdown",
      "metadata": {
        "id": "5jEkY8rY38m9"
      },
      "source": [
        "- ### String Concatenation"
      ]
    },
    {
      "cell_type": "code",
      "execution_count": 41,
      "metadata": {
        "colab": {
          "base_uri": "https://localhost:8080/"
        },
        "id": "RaS9uktf38m9",
        "outputId": "a8a58caf-02f6-491c-d445-c989abfa6d37"
      },
      "outputs": [
        {
          "output_type": "stream",
          "name": "stdout",
          "text": [
            "this is a string paragraph,\n",
            "this is line number 2,\n",
            "and including the 3rd line as well,\n",
            "includes some spl characters !@#_ THIS IS A STRING PARAGRAPH,\n",
            "THIS IS LINE NUMBER 2,\n",
            "AND INCLUDING THE 3RD LINE AS WELL,\n",
            "INCLUDES SOME SPL CHARACTERS !@#_\n",
            "this is a string paragraph,\n",
            "this is line number 2,\n",
            "and including the 3rd line as well,\n",
            "includes some spl characters !@#_this is a string paragraph,\n",
            "this is line number 2,\n",
            "and including the 3rd line as well,\n",
            "includes some spl characters !@#_this is a string paragraph,\n",
            "this is line number 2,\n",
            "and including the 3rd line as well,\n",
            "includes some spl characters !@#_\n"
          ]
        }
      ],
      "source": [
        "concact_string = multiline +\" \"+ upper_multiline\n",
        "print(concact_string)\n",
        "repetation_3_times = multiline * 3\n",
        "print(repetation_3_times)"
      ]
    },
    {
      "cell_type": "markdown",
      "metadata": {
        "id": "h2PKNfRz38m9"
      },
      "source": [
        "## 6. Comparison , Identity, Membership Operators\n",
        "`>=, ==, =<, in, not in, is, is not`"
      ]
    },
    {
      "cell_type": "code",
      "execution_count": 42,
      "metadata": {
        "colab": {
          "base_uri": "https://localhost:8080/"
        },
        "id": "6iF1VKfD38m9",
        "outputId": "b5821cf7-4e64-46bb-fd9f-ba123a4edfbc"
      },
      "outputs": [
        {
          "output_type": "stream",
          "name": "stdout",
          "text": [
            "True\n",
            "True\n",
            "False\n",
            "True\n",
            "True\n",
            "\n",
            "\n",
            "True\n",
            "True\n",
            "False\n",
            "True\n",
            "True\n",
            "\n",
            "\n",
            "indentity operators!\n",
            "True\n",
            "False\n",
            "True\n",
            "True\n",
            "False\n",
            "result : True\n",
            "result : False\n",
            "True\n",
            "False\n"
          ]
        }
      ],
      "source": [
        "# try using > < >= <= ==\n",
        "# integers and float\n",
        "print(4>1)\n",
        "print(3<4)\n",
        "print(0 == 1)\n",
        "print(3 >= 3)\n",
        "print(2 <= 4)\n",
        "print('\\n')\n",
        "print(4.2>1.2)\n",
        "print(3.1<4.5)\n",
        "print(0.4 == 1.5)\n",
        "print(3.7 >= 3.2)\n",
        "print(2.3 <= 4.2)\n",
        "print('\\n')\n",
        "print('indentity operators!')\n",
        "iden_1 = 1\n",
        "iden_2 = 1\n",
        "print(iden_1 is iden_2)\n",
        "iden_1 = 1\n",
        "iden_2 = 4\n",
        "print(iden_1 is iden_2)\n",
        "print(multiline is multiline)\n",
        "print(multiline is not upper_multiline)\n",
        "print(multiline == upper_multiline)\n",
        "print(\"result : \"+ str(multiline == upper_multiline.lower()))\n",
        "print(\"result : \"+ str(multiline is upper_multiline.lower()))\n",
        "iden_str1 = \"abc\"\n",
        "iden_str2 = \"abc\"\n",
        "print(iden_str1 is iden_str2)\n",
        "iden_str1 = \"abc\"\n",
        "iden_str2 = \"ABC\"\n",
        "print(iden_str1 is iden_str2.lower())"
      ]
    },
    {
      "cell_type": "markdown",
      "metadata": {
        "id": "JCMbwCO738m9"
      },
      "source": [
        "\n",
        "## 7. Arithmetic and Assignment Operators"
      ]
    },
    {
      "cell_type": "code",
      "execution_count": 43,
      "metadata": {
        "colab": {
          "base_uri": "https://localhost:8080/"
        },
        "id": "gqP051vf38m9",
        "outputId": "2bc66ad1-043d-4467-a34d-f1cf4b2c9b75"
      },
      "outputs": [
        {
          "output_type": "stream",
          "name": "stdout",
          "text": [
            "3\n",
            "4\n",
            "2\n",
            "2.0\n",
            "18\n",
            "216\n",
            "2\n",
            "1.3333333333333335\n",
            "chiranthc\n",
            "chiranthchiranth\n"
          ]
        }
      ],
      "source": [
        "# + - * / ** %\n",
        "# exercise\n",
        "print(number_first + NUMBER_FIRST)\n",
        "print(2+2)\n",
        "print(4-2)\n",
        "print(4/2)\n",
        "print(6*3)\n",
        "print(6**3)\n",
        "print(8%3)\n",
        "# assignment operators on numbers\n",
        "var = 1\n",
        "var += 2\n",
        "var *= 4\n",
        "var -= 2\n",
        "var /= 3\n",
        "var %= 2\n",
        "print(var)\n",
        "\n",
        "# assignment operators on strings + , *\n",
        "string_val = \"chiranth\"\n",
        "string_val += \"c\"\n",
        "print(string_val)\n",
        "string_val = \"chiranth\"\n",
        "string_val *= 2\n",
        "print(string_val)"
      ]
    },
    {
      "cell_type": "markdown",
      "metadata": {
        "id": "xw876PFP38m9"
      },
      "source": [
        "## 8. Lists\n",
        "- ### Assignment"
      ]
    },
    {
      "cell_type": "code",
      "execution_count": 44,
      "metadata": {
        "colab": {
          "base_uri": "https://localhost:8080/"
        },
        "id": "iv976JSI38m9",
        "outputId": "0a6d4579-263e-4606-f4ce-e51003f31c9d"
      },
      "outputs": [
        {
          "output_type": "stream",
          "name": "stdout",
          "text": [
            "[0, 2, 3, 4, 5, 6, 7, 8, 9, 10]\n",
            "[1, 'python', False, 3.14]\n",
            "['this', 'is', 'a', 'string', 'paragraph,', 'this', 'is', 'line', 'number', '2,', 'and', 'including', 'the', '3rd', 'line', 'as', 'well,', 'includes', 'some', 'spl', 'characters', '!@#_']\n",
            "[0, 1, 2, 3, 4, 5, 6, 7, 8, 9, 10, 11, 12, 13, 14, 15, 16, 17, 18, 19, 20, 21, 22, 23, 24, 25, 26, 27, 28, 29, 30, 31, 32, 33, 34, 35, 36, 37, 38, 39, 40, 41, 42, 43, 44, 45, 46, 47, 48, 49, 50, 51, 52, 53, 54, 55, 56, 57, 58, 59, 60, 61, 62, 63, 64, 65, 66, 67, 68, 69, 70, 71, 72, 73, 74, 75, 76, 77, 78, 79, 80, 81, 82, 83, 84, 85, 86, 87, 88, 89, 90, 91, 92, 93, 94, 95, 96, 97, 98, 99]\n",
            "[25, 26, 27, 28, 29, 30, 31, 32, 33, 34, 35, 36, 37, 38, 39, 40, 41, 42, 43, 44, 45, 46, 47, 48, 49]\n"
          ]
        }
      ],
      "source": [
        "single_digits = [0,2,3,4,5,6,7,8,9,10]\n",
        "print(single_digits)\n",
        "hetero_data = [1,\"python\" , False , 3.14]\n",
        "print(hetero_data)\n",
        "multi_list = multiline.split()\n",
        "print(multi_list)\n",
        "# range(stop) 0 to stop exludes stop\n",
        "# range(start , stop) start to stop\n",
        "integers = list(range(100))\n",
        "print(integers)\n",
        "tf_fif = list(range(25,50))\n",
        "print(tf_fif)"
      ]
    },
    {
      "cell_type": "markdown",
      "metadata": {
        "id": "a0-dnqsR38m9"
      },
      "source": [
        "- ### List Index and Slicing"
      ]
    },
    {
      "cell_type": "code",
      "execution_count": 45,
      "metadata": {
        "colab": {
          "base_uri": "https://localhost:8080/"
        },
        "id": "gVtMAyvW38m9",
        "outputId": "92d51078-9639-409f-e0bf-82fcae0e5440"
      },
      "outputs": [
        {
          "output_type": "stream",
          "name": "stdout",
          "text": [
            "1\n",
            "3.14\n",
            "['string', 'paragraph,', 'this', 'is', 'line', 'number', '2,', 'and', 'including', 'the', '3rd', 'line', 'as', 'well,', 'includes', 'some', 'spl', 'characters', '!@#_']\n",
            "['string', 'paragraph,', 'this', 'is', 'line', 'number', '2,', 'and', 'including', 'the', '3rd', 'line', 'as', 'well,', 'includes', 'some']\n"
          ]
        }
      ],
      "source": [
        "# intex starts from 0\n",
        "print(hetero_data[0])\n",
        "print(hetero_data[-1])\n",
        "\n",
        "# slicing\n",
        "print(multi_list[3:])\n",
        "print(multi_list[3:-3])"
      ]
    },
    {
      "cell_type": "markdown",
      "metadata": {
        "id": "k5_mAJvP38m-"
      },
      "source": [
        "- ### List functions `insert(), append(), extend(). remove(), sort()`\n"
      ]
    },
    {
      "cell_type": "code",
      "execution_count": 46,
      "metadata": {
        "colab": {
          "base_uri": "https://localhost:8080/"
        },
        "id": "EHQZtVWp38m-",
        "outputId": "6a63a780-48d9-468c-f26f-d0681b99ce3a"
      },
      "outputs": [
        {
          "output_type": "stream",
          "name": "stdout",
          "text": [
            "22\n",
            "['New Added Value', 'this', 'is', 'a', 'string', 'paragraph,', 'this', 'is', 'line', 'number', '2,', 'and', 'including', 'the', '3rd', 'line', 'as', 'well,', 'includes', 'some', 'spl', 'characters', '!@#_']\n",
            "23\n",
            "['New Added Value', 'this', 'is', 'a', 'string', 'paragraph,', 'this', 'is', 'line', 'number', '2,', 'and', 'including', 'the', '3rd', 'New Added Value', 'line', 'as', 'well,', 'includes', 'some', 'spl', 'characters', '!@#_']\n",
            "24\n",
            "['New Added Value', 'this', 'is', 'a', 'string', 'paragraph,', 'this', 'is', 'line', 'number', '2,', 'and', 'including', 'the', '3rd', 'New Added Value', 'line', 'as', 'well,', 'includes', 'some', 'spl', 'Chiranth', 'characters', '!@#_']\n",
            "25\n"
          ]
        }
      ],
      "source": [
        "print(len(multi_list))\n",
        "multi_list.insert(0, \"New Added Value\") # returns None , updates original list\n",
        "print(multi_list)\n",
        "print(len(multi_list))\n",
        "multi_list.insert(-8, \"New Added Value\") # returns None , updates original list\n",
        "print(multi_list)\n",
        "print(len(multi_list))\n",
        "multi_list.insert(-2, 'Chiranth') # returns None , updates original list\n",
        "print(multi_list)\n",
        "print(len(multi_list))"
      ]
    },
    {
      "cell_type": "code",
      "source": [
        "print(len(multi_list))\n",
        "hetero_data[0] += 1\n",
        "hetero_data[1] *= 2\n",
        "hetero_data[2] = True\n",
        "hetero_data[3] = list(range(3))\n",
        "print(hetero_data)"
      ],
      "metadata": {
        "colab": {
          "base_uri": "https://localhost:8080/"
        },
        "id": "KJikVsEYT7T8",
        "outputId": "67273811-968f-4038-d8ef-2f958f875537"
      },
      "execution_count": 47,
      "outputs": [
        {
          "output_type": "stream",
          "name": "stdout",
          "text": [
            "25\n",
            "[2, 'pythonpython', True, [0, 1, 2]]\n"
          ]
        }
      ]
    },
    {
      "cell_type": "code",
      "source": [
        "hetero_data.append(\"2\")\n",
        "print(hetero_data)"
      ],
      "metadata": {
        "colab": {
          "base_uri": "https://localhost:8080/"
        },
        "id": "MhihCygiVND8",
        "outputId": "8c0d8163-b11f-4e74-c07a-0dc10bf52467"
      },
      "execution_count": 48,
      "outputs": [
        {
          "output_type": "stream",
          "name": "stdout",
          "text": [
            "[2, 'pythonpython', True, [0, 1, 2], '2']\n"
          ]
        }
      ]
    },
    {
      "cell_type": "code",
      "source": [
        "hetero_data.append([1,2,3])\n",
        "print(hetero_data)"
      ],
      "metadata": {
        "colab": {
          "base_uri": "https://localhost:8080/"
        },
        "id": "TDNPjFCmVWjj",
        "outputId": "d46526a2-89b1-4847-e8f9-6fa88244625b"
      },
      "execution_count": 49,
      "outputs": [
        {
          "output_type": "stream",
          "name": "stdout",
          "text": [
            "[2, 'pythonpython', True, [0, 1, 2], '2', [1, 2, 3]]\n"
          ]
        }
      ]
    },
    {
      "cell_type": "code",
      "source": [
        "hetero_data.extend([1,2,3])\n",
        "print(hetero_data)"
      ],
      "metadata": {
        "colab": {
          "base_uri": "https://localhost:8080/"
        },
        "id": "tC5FPZOFVolR",
        "outputId": "d0a744de-98ec-4707-d459-ef50878f0b83"
      },
      "execution_count": 50,
      "outputs": [
        {
          "output_type": "stream",
          "name": "stdout",
          "text": [
            "[2, 'pythonpython', True, [0, 1, 2], '2', [1, 2, 3], 1, 2, 3]\n"
          ]
        }
      ]
    },
    {
      "cell_type": "code",
      "source": [
        "# remove for the occurance\n",
        "hetero_data.remove(2)\n",
        "print(hetero_data)\n",
        "hetero_data.remove(2)\n",
        "print(hetero_data)"
      ],
      "metadata": {
        "colab": {
          "base_uri": "https://localhost:8080/"
        },
        "id": "lmCwCqLqV5Zq",
        "outputId": "ae18dbe5-36c6-428f-81c6-3038754a60d3"
      },
      "execution_count": 51,
      "outputs": [
        {
          "output_type": "stream",
          "name": "stdout",
          "text": [
            "['pythonpython', True, [0, 1, 2], '2', [1, 2, 3], 1, 2, 3]\n",
            "['pythonpython', True, [0, 1, 2], '2', [1, 2, 3], 1, 3]\n"
          ]
        }
      ]
    },
    {
      "cell_type": "code",
      "source": [
        "random_numbers = [1,5,3,1,2,-10,20,99]\n",
        "random_numbers.sort()\n",
        "print(random_numbers)\n",
        "random_numbers.sort(reverse=True)\n",
        "print(random_numbers)"
      ],
      "metadata": {
        "colab": {
          "base_uri": "https://localhost:8080/"
        },
        "id": "abBeK7b5WZq4",
        "outputId": "18234d5c-5a07-40d9-d192-eb357bce6a73"
      },
      "execution_count": 52,
      "outputs": [
        {
          "output_type": "stream",
          "name": "stdout",
          "text": [
            "[-10, 1, 1, 2, 3, 5, 20, 99]\n",
            "[99, 20, 5, 3, 2, 1, 1, -10]\n"
          ]
        }
      ]
    },
    {
      "cell_type": "code",
      "source": [
        "multi_list.sort()\n",
        "print(multi_list)\n",
        "multi_list.sort(reverse=True)\n",
        "print(multi_list)\n",
        "case_list = ['a','Z','b','Z','1','&']\n",
        "print(case_list)\n",
        "case_list.sort()\n",
        "print(case_list)\n",
        "case_list.sort(reverse=True)\n",
        "print(case_list)"
      ],
      "metadata": {
        "colab": {
          "base_uri": "https://localhost:8080/"
        },
        "id": "3sMoRF9LW3A3",
        "outputId": "0d92be89-81ff-4fa7-8c1d-310424dc9c2e"
      },
      "execution_count": 53,
      "outputs": [
        {
          "output_type": "stream",
          "name": "stdout",
          "text": [
            "['!@#_', '2,', '3rd', 'Chiranth', 'New Added Value', 'New Added Value', 'a', 'and', 'as', 'characters', 'includes', 'including', 'is', 'is', 'line', 'line', 'number', 'paragraph,', 'some', 'spl', 'string', 'the', 'this', 'this', 'well,']\n",
            "['well,', 'this', 'this', 'the', 'string', 'spl', 'some', 'paragraph,', 'number', 'line', 'line', 'is', 'is', 'including', 'includes', 'characters', 'as', 'and', 'a', 'New Added Value', 'New Added Value', 'Chiranth', '3rd', '2,', '!@#_']\n",
            "['a', 'Z', 'b', 'Z', '1', '&']\n",
            "['&', '1', 'Z', 'Z', 'a', 'b']\n",
            "['b', 'a', 'Z', 'Z', '1', '&']\n"
          ]
        }
      ]
    },
    {
      "cell_type": "code",
      "source": [
        "# Assignments\n",
        "#2. Write a Python program that takes a string and prints out the following information: (COMMENT EACH lines of code)\n",
        "string_var = \"pneumonoultramicroscopicsilicovolcanoconiosis\"\n",
        "#\t2.1. The data type\n",
        "print(\"Output of 2.1. assignment is :\")\n",
        "print(type(string_var)) # type function will find the type of the string_var variable and returns the type of the variable\n",
        "print(\"\\n\")\n",
        "#\t2.2. The length\n",
        "print(\"Output of 2.2. assignment is :\")\n",
        "print(len(string_var)) # len function will return the length of the string_var\n",
        "print(\"\\n\")\n",
        "#\t2.3. The first and last characters\n",
        "print(\"Output of 2.3. assignment is :\")\n",
        "print('first character is : '+string_var[0]) # returns 1st characer of the string using +ve indexing\n",
        "print('last character is : '+string_var[-1]) # returns 1st characer of the string using -ve indexing\n",
        "print(\"\\n\")\n",
        "#\t2.4. All uppercase letters\n",
        "print(\"Output of 2.4. assignment is :\")\n",
        "print('uppercase of string_var is : '+ string_var.upper()) # <var>.upper will convert the string to upper case\n",
        "print(\"\\n\")\n",
        "#\t2.5. The string contains all the vowels (using the membership operator)\n",
        "print(\"Output of 2.5. assignment is :\")\n",
        "string_var = \"pneumonoultramicroscopicsilicovolcanoconiosis\" # assign string to a variable\n",
        "vovels_variable = \"aeiou\" # assing a string that has vovels to a variable\n",
        "char_count = 0 # initialise the character count to 0\n",
        "for vovels_var in vovels_variable: # start looping on vovels_variable and itterate on each character of the string\n",
        "  if vovels_var in string_var: # if vovels_var is present in the string_var\n",
        "    char_count += 1 # then increment the char_count by 1\n",
        "if char_count == len(vovels_variable): # if the character count exactly matched the length of the vovel string\n",
        "  print(\"all vovels are present in this string : \"+ string_var) # then print the string has all the vovel in it\n",
        "else: # else (if not)\n",
        "  print(\"some of the vovels are not present in this string : \"+ string_var) # then print the string do not have all the vovels"
      ],
      "metadata": {
        "colab": {
          "base_uri": "https://localhost:8080/"
        },
        "id": "WWreAC7aJGyu",
        "outputId": "d072a6c6-b44d-4577-a6aa-a8259a87e340"
      },
      "execution_count": 59,
      "outputs": [
        {
          "output_type": "stream",
          "name": "stdout",
          "text": [
            "Output of 2.1. assignment is :\n",
            "<class 'str'>\n",
            "\n",
            "\n",
            "Output of 2.2. assignment is :\n",
            "45\n",
            "\n",
            "\n",
            "Output of 2.3. assignment is :\n",
            "first character is : p\n",
            "last character is : s\n",
            "\n",
            "\n",
            "Output of 2.4. assignment is :\n",
            "uppercase of string_var is : PNEUMONOULTRAMICROSCOPICSILICOVOLCANOCONIOSIS\n",
            "\n",
            "\n",
            "Output of 2.5. assignment is :\n",
            "all vovels are present in this string : pneumonoultramicroscopicsilicovolcanoconiosis\n"
          ]
        }
      ]
    },
    {
      "cell_type": "code",
      "source": [
        "'''3. Write a python program that takes a string, converts it into a list and converts it into a palindrome by creating a copy of the list and concatinating both strings.(COMMENT EACH lines of code)\n",
        "example: \n",
        "\tif string_example = \"programmer\"\n",
        "\tlist1 = list(example) # ['p', 'r', 'o', 'g', 'r', 'a', 'm', 'm', 'e', 'r']\n",
        "\tlist2 should be reverse of list1\n",
        "\toutput should be letters of list1 + list2 so that it forms a palindrome.\n",
        "\tUse the join() function to achieve this.'''\n",
        "print(\"Output of 3. assignment is :\")\n",
        "string_example = \"programmer\" # initialise the string variable and assign the string value\n",
        "list1 = list(string_example) # convert the string to list and assign it to list1\n",
        "list2 = list() # cerate an empty list2\n",
        "print(list1) # print the 1st list1\n",
        "for i in range(len(list1)): # start looping on the list and itterate on each value of the list\n",
        "     last_item = list1.pop() # extract the last value of this list using pop function and store it in a variable called last_item\n",
        "     list2.insert(i, last_item) # insert these elements that gets extracted to list2\n",
        "print(list2) # print the reversed list value\n",
        "rev_of_string_example = \"\".join(list2) # join each character in the list2 and save it as a string in rev_of_string_example variable\n",
        "print(rev_of_string_example) # print the reversed string\n",
        "result = string_example+rev_of_string_example # concatinate two string both actual and reversed to get a palindrome string\n",
        "print(\"result : \"+result) # print the palindrome result to the console"
      ],
      "metadata": {
        "colab": {
          "base_uri": "https://localhost:8080/"
        },
        "id": "ftoaqyalYz92",
        "outputId": "8ed164f8-b0e0-4545-d0f7-3957fa363997"
      },
      "execution_count": 61,
      "outputs": [
        {
          "output_type": "stream",
          "name": "stdout",
          "text": [
            "Output of 3. assignment is :\n",
            "['p', 'r', 'o', 'g', 'r', 'a', 'm', 'm', 'e', 'r']\n",
            "['r', 'e', 'm', 'm', 'a', 'r', 'g', 'o', 'r', 'p']\n",
            "remmargorp\n",
            "result : programmerremmargorp\n"
          ]
        }
      ]
    }
  ],
  "metadata": {
    "kernelspec": {
      "display_name": "base",
      "language": "python",
      "name": "python3"
    },
    "language_info": {
      "name": "python",
      "version": "3.9.7"
    },
    "orig_nbformat": 4,
    "colab": {
      "provenance": [],
      "include_colab_link": true
    }
  },
  "nbformat": 4,
  "nbformat_minor": 0
}